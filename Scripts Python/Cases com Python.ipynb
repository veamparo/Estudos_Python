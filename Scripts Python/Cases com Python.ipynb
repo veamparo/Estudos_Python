{
 "cells": [
  {
   "cell_type": "code",
   "execution_count": 1,
   "id": "dd076c88",
   "metadata": {},
   "outputs": [],
   "source": [
    "# Carregar bibliotecas\n",
    "\n",
    "import pandas as pd\n",
    "import numpy  as np\n",
    "from numpy import NaN\n",
    "\n"
   ]
  },
  {
   "cell_type": "markdown",
   "id": "1873769f",
   "metadata": {},
   "source": [
    "## Leitura de arquivo"
   ]
  },
  {
   "cell_type": "code",
   "execution_count": 2,
   "id": "cb2593e2",
   "metadata": {},
   "outputs": [
    {
     "name": "stderr",
     "output_type": "stream",
     "text": [
      "C:\\Users\\Samsung\\AppData\\Local\\Temp\\ipykernel_14068\\1468676518.py:3: DtypeWarning: Columns (3) have mixed types. Specify dtype option on import or set low_memory=False.\n",
      "  df = pd.read_csv('C:/Users/Samsung/Datasets/Kaggle/raw_data.csv')\n"
     ]
    }
   ],
   "source": [
    "# Diretorio dos datasets C:\\Users\\Samsung\n",
    "\n",
    "df = pd.read_csv('C:/Users/Samsung/Datasets/Kaggle/raw_data.csv')\n",
    "\n"
   ]
  },
  {
   "cell_type": "code",
   "execution_count": 3,
   "id": "ae943003",
   "metadata": {},
   "outputs": [
    {
     "data": {
      "text/html": [
       "<div>\n",
       "<style scoped>\n",
       "    .dataframe tbody tr th:only-of-type {\n",
       "        vertical-align: middle;\n",
       "    }\n",
       "\n",
       "    .dataframe tbody tr th {\n",
       "        vertical-align: top;\n",
       "    }\n",
       "\n",
       "    .dataframe thead th {\n",
       "        text-align: right;\n",
       "    }\n",
       "</style>\n",
       "<table border=\"1\" class=\"dataframe\">\n",
       "  <thead>\n",
       "    <tr style=\"text-align: right;\">\n",
       "      <th></th>\n",
       "      <th>Unnamed: 0</th>\n",
       "      <th>departamento</th>\n",
       "      <th>municipio</th>\n",
       "      <th>codigo_dane</th>\n",
       "      <th>armas_medios</th>\n",
       "      <th>fecha_hecho</th>\n",
       "      <th>genero</th>\n",
       "      <th>grupo_etario</th>\n",
       "      <th>cantidad</th>\n",
       "    </tr>\n",
       "  </thead>\n",
       "  <tbody>\n",
       "    <tr>\n",
       "      <th>0</th>\n",
       "      <td>0</td>\n",
       "      <td>ATLÁNTICO</td>\n",
       "      <td>BARRANQUILLA (CT)</td>\n",
       "      <td>8001000</td>\n",
       "      <td>ARMA BLANCA / CORTOPUNZANTE</td>\n",
       "      <td>1/01/2010</td>\n",
       "      <td>MASCULINO</td>\n",
       "      <td>ADULTOS</td>\n",
       "      <td>1</td>\n",
       "    </tr>\n",
       "    <tr>\n",
       "      <th>1</th>\n",
       "      <td>1</td>\n",
       "      <td>BOYACÁ</td>\n",
       "      <td>DUITAMA</td>\n",
       "      <td>15238000</td>\n",
       "      <td>ARMA BLANCA / CORTOPUNZANTE</td>\n",
       "      <td>1/01/2010</td>\n",
       "      <td>FEMENINO</td>\n",
       "      <td>ADULTOS</td>\n",
       "      <td>1</td>\n",
       "    </tr>\n",
       "    <tr>\n",
       "      <th>2</th>\n",
       "      <td>2</td>\n",
       "      <td>CAQUETÁ</td>\n",
       "      <td>PUERTO RICO</td>\n",
       "      <td>18592000</td>\n",
       "      <td>ARMA BLANCA / CORTOPUNZANTE</td>\n",
       "      <td>1/01/2010</td>\n",
       "      <td>MASCULINO</td>\n",
       "      <td>ADULTOS</td>\n",
       "      <td>1</td>\n",
       "    </tr>\n",
       "    <tr>\n",
       "      <th>3</th>\n",
       "      <td>3</td>\n",
       "      <td>CASANARE</td>\n",
       "      <td>MANÍ</td>\n",
       "      <td>85139000</td>\n",
       "      <td>ARMA BLANCA / CORTOPUNZANTE</td>\n",
       "      <td>1/01/2010</td>\n",
       "      <td>FEMENINO</td>\n",
       "      <td>ADULTOS</td>\n",
       "      <td>1</td>\n",
       "    </tr>\n",
       "    <tr>\n",
       "      <th>4</th>\n",
       "      <td>4</td>\n",
       "      <td>CUNDINAMARCA</td>\n",
       "      <td>BOGOTÁ D.C. (CT)</td>\n",
       "      <td>11001000</td>\n",
       "      <td>ARMA BLANCA / CORTOPUNZANTE</td>\n",
       "      <td>1/01/2010</td>\n",
       "      <td>FEMENINO</td>\n",
       "      <td>ADULTOS</td>\n",
       "      <td>1</td>\n",
       "    </tr>\n",
       "    <tr>\n",
       "      <th>...</th>\n",
       "      <td>...</td>\n",
       "      <td>...</td>\n",
       "      <td>...</td>\n",
       "      <td>...</td>\n",
       "      <td>...</td>\n",
       "      <td>...</td>\n",
       "      <td>...</td>\n",
       "      <td>...</td>\n",
       "      <td>...</td>\n",
       "    </tr>\n",
       "    <tr>\n",
       "      <th>575716</th>\n",
       "      <td>575716</td>\n",
       "      <td>VALLE</td>\n",
       "      <td>CARTAGO</td>\n",
       "      <td>76147000</td>\n",
       "      <td>SIN EMPLEO DE ARMAS</td>\n",
       "      <td>28/02/2023</td>\n",
       "      <td>FEMENINO</td>\n",
       "      <td>ADULTOS</td>\n",
       "      <td>1</td>\n",
       "    </tr>\n",
       "    <tr>\n",
       "      <th>575717</th>\n",
       "      <td>575717</td>\n",
       "      <td>VALLE</td>\n",
       "      <td>GUACARÍ</td>\n",
       "      <td>76318000</td>\n",
       "      <td>SIN EMPLEO DE ARMAS</td>\n",
       "      <td>28/02/2023</td>\n",
       "      <td>FEMENINO</td>\n",
       "      <td>ADULTOS</td>\n",
       "      <td>1</td>\n",
       "    </tr>\n",
       "    <tr>\n",
       "      <th>575718</th>\n",
       "      <td>575718</td>\n",
       "      <td>VALLE</td>\n",
       "      <td>GUADALAJARA DE BUGA</td>\n",
       "      <td>76111000</td>\n",
       "      <td>SIN EMPLEO DE ARMAS</td>\n",
       "      <td>28/02/2023</td>\n",
       "      <td>FEMENINO</td>\n",
       "      <td>ADULTOS</td>\n",
       "      <td>1</td>\n",
       "    </tr>\n",
       "    <tr>\n",
       "      <th>575719</th>\n",
       "      <td>575719</td>\n",
       "      <td>VALLE</td>\n",
       "      <td>PALMIRA</td>\n",
       "      <td>76520000</td>\n",
       "      <td>SIN EMPLEO DE ARMAS</td>\n",
       "      <td>28/02/2023</td>\n",
       "      <td>FEMENINO</td>\n",
       "      <td>ADULTOS</td>\n",
       "      <td>2</td>\n",
       "    </tr>\n",
       "    <tr>\n",
       "      <th>575720</th>\n",
       "      <td>575720</td>\n",
       "      <td>VALLE</td>\n",
       "      <td>YUMBO</td>\n",
       "      <td>76892000</td>\n",
       "      <td>SIN EMPLEO DE ARMAS</td>\n",
       "      <td>28/02/2023</td>\n",
       "      <td>FEMENINO</td>\n",
       "      <td>ADULTOS</td>\n",
       "      <td>1</td>\n",
       "    </tr>\n",
       "  </tbody>\n",
       "</table>\n",
       "<p>575721 rows × 9 columns</p>\n",
       "</div>"
      ],
      "text/plain": [
       "        Unnamed: 0  departamento            municipio codigo_dane  \\\n",
       "0                0     ATLÁNTICO    BARRANQUILLA (CT)     8001000   \n",
       "1                1        BOYACÁ              DUITAMA    15238000   \n",
       "2                2       CAQUETÁ          PUERTO RICO    18592000   \n",
       "3                3      CASANARE                 MANÍ    85139000   \n",
       "4                4  CUNDINAMARCA     BOGOTÁ D.C. (CT)    11001000   \n",
       "...            ...           ...                  ...         ...   \n",
       "575716      575716         VALLE              CARTAGO    76147000   \n",
       "575717      575717         VALLE              GUACARÍ    76318000   \n",
       "575718      575718         VALLE  GUADALAJARA DE BUGA    76111000   \n",
       "575719      575719         VALLE              PALMIRA    76520000   \n",
       "575720      575720         VALLE                YUMBO    76892000   \n",
       "\n",
       "                       armas_medios fecha_hecho     genero grupo_etario  \\\n",
       "0       ARMA BLANCA / CORTOPUNZANTE   1/01/2010  MASCULINO      ADULTOS   \n",
       "1       ARMA BLANCA / CORTOPUNZANTE   1/01/2010   FEMENINO      ADULTOS   \n",
       "2       ARMA BLANCA / CORTOPUNZANTE   1/01/2010  MASCULINO      ADULTOS   \n",
       "3       ARMA BLANCA / CORTOPUNZANTE   1/01/2010   FEMENINO      ADULTOS   \n",
       "4       ARMA BLANCA / CORTOPUNZANTE   1/01/2010   FEMENINO      ADULTOS   \n",
       "...                             ...         ...        ...          ...   \n",
       "575716          SIN EMPLEO DE ARMAS  28/02/2023   FEMENINO      ADULTOS   \n",
       "575717          SIN EMPLEO DE ARMAS  28/02/2023   FEMENINO      ADULTOS   \n",
       "575718          SIN EMPLEO DE ARMAS  28/02/2023   FEMENINO      ADULTOS   \n",
       "575719          SIN EMPLEO DE ARMAS  28/02/2023   FEMENINO      ADULTOS   \n",
       "575720          SIN EMPLEO DE ARMAS  28/02/2023   FEMENINO      ADULTOS   \n",
       "\n",
       "        cantidad  \n",
       "0              1  \n",
       "1              1  \n",
       "2              1  \n",
       "3              1  \n",
       "4              1  \n",
       "...          ...  \n",
       "575716         1  \n",
       "575717         1  \n",
       "575718         1  \n",
       "575719         2  \n",
       "575720         1  \n",
       "\n",
       "[575721 rows x 9 columns]"
      ]
     },
     "execution_count": 3,
     "metadata": {},
     "output_type": "execute_result"
    }
   ],
   "source": [
    "df"
   ]
  },
  {
   "cell_type": "markdown",
   "id": "5426e973",
   "metadata": {},
   "source": [
    "### Renomear colunas"
   ]
  },
  {
   "cell_type": "code",
   "execution_count": 4,
   "id": "b9ea5477",
   "metadata": {},
   "outputs": [],
   "source": [
    "# Renomenado algumas colunas\n",
    "\n",
    "df = df.rename({'armas_medios': 'arma_usada',\n",
    "               'fecha_hecho':'data_crime',\n",
    "                'genero': 'gênero',\n",
    "               'cantidad': 'quantidade'}, axis=1)"
   ]
  },
  {
   "cell_type": "code",
   "execution_count": 5,
   "id": "87b9214e",
   "metadata": {},
   "outputs": [],
   "source": [
    "#Excluir coluna informando o nome e se é coluna = 1 ou linha = 0\n",
    "\n",
    "df = df.drop('codigo_dane', axis=1)"
   ]
  },
  {
   "cell_type": "code",
   "execution_count": 6,
   "id": "39297f08",
   "metadata": {},
   "outputs": [
    {
     "name": "stdout",
     "output_type": "stream",
     "text": [
      "<class 'pandas.core.frame.DataFrame'>\n",
      "RangeIndex: 575721 entries, 0 to 575720\n",
      "Data columns (total 8 columns):\n",
      " #   Column        Non-Null Count   Dtype \n",
      "---  ------        --------------   ----- \n",
      " 0   Unnamed: 0    575721 non-null  int64 \n",
      " 1   departamento  575721 non-null  object\n",
      " 2   municipio     575721 non-null  object\n",
      " 3   arma_usada    575721 non-null  object\n",
      " 4   data_crime    575721 non-null  object\n",
      " 5   gênero        575721 non-null  object\n",
      " 6   grupo_etario  574110 non-null  object\n",
      " 7   quantidade    575721 non-null  int64 \n",
      "dtypes: int64(2), object(6)\n",
      "memory usage: 35.1+ MB\n"
     ]
    }
   ],
   "source": [
    "#Informações do dataframe\n",
    "\n",
    "df.info()"
   ]
  },
  {
   "cell_type": "code",
   "execution_count": 7,
   "id": "96d2608b",
   "metadata": {},
   "outputs": [
    {
     "data": {
      "text/plain": [
       "(575721, 8)"
      ]
     },
     "execution_count": 7,
     "metadata": {},
     "output_type": "execute_result"
    }
   ],
   "source": [
    "#Dimensão do dataframe\n",
    "\n",
    "df.shape"
   ]
  },
  {
   "cell_type": "code",
   "execution_count": 8,
   "id": "9a0e7a15",
   "metadata": {},
   "outputs": [
    {
     "data": {
      "text/plain": [
       "Unnamed: 0         0\n",
       "departamento       0\n",
       "municipio          0\n",
       "arma_usada         0\n",
       "data_crime         0\n",
       "gênero             0\n",
       "grupo_etario    1611\n",
       "quantidade         0\n",
       "dtype: int64"
      ]
     },
     "execution_count": 8,
     "metadata": {},
     "output_type": "execute_result"
    }
   ],
   "source": [
    "# Verificando valores nulos e quantidade\n",
    "\n",
    "df.isnull().sum()"
   ]
  },
  {
   "cell_type": "markdown",
   "id": "a8080527",
   "metadata": {},
   "source": [
    "### Converter tipo de colunas"
   ]
  },
  {
   "cell_type": "code",
   "execution_count": 9,
   "id": "0ec782d2",
   "metadata": {},
   "outputs": [],
   "source": [
    "# Mudar o tipo de variável\n",
    "\n",
    "df['gênero'] = df['gênero'].astype('category')\n",
    "df['grupo_etario'] = df['grupo_etario'].astype('category')\n",
    "df['arma_usada'] = df['arma_usada'].astype('category')\n",
    "df['data_crime'] = pd.to_datetime(df['data_crime'], format = '%d/%m/%Y')\n"
   ]
  },
  {
   "cell_type": "code",
   "execution_count": 10,
   "id": "3dc5ed03",
   "metadata": {},
   "outputs": [
    {
     "name": "stdout",
     "output_type": "stream",
     "text": [
      "<class 'pandas.core.frame.DataFrame'>\n",
      "RangeIndex: 575721 entries, 0 to 575720\n",
      "Data columns (total 8 columns):\n",
      " #   Column        Non-Null Count   Dtype         \n",
      "---  ------        --------------   -----         \n",
      " 0   Unnamed: 0    575721 non-null  int64         \n",
      " 1   departamento  575721 non-null  object        \n",
      " 2   municipio     575721 non-null  object        \n",
      " 3   arma_usada    575721 non-null  category      \n",
      " 4   data_crime    575721 non-null  datetime64[ns]\n",
      " 5   gênero        575721 non-null  category      \n",
      " 6   grupo_etario  574110 non-null  category      \n",
      " 7   quantidade    575721 non-null  int64         \n",
      "dtypes: category(3), datetime64[ns](1), int64(2), object(2)\n",
      "memory usage: 23.6+ MB\n"
     ]
    }
   ],
   "source": [
    "df.info()"
   ]
  },
  {
   "cell_type": "code",
   "execution_count": 11,
   "id": "e38c16d3",
   "metadata": {},
   "outputs": [
    {
     "data": {
      "text/plain": [
       "CUNDINAMARCA          104692\n",
       "ANTIOQUIA              70655\n",
       "VALLE                  53718\n",
       "SANTANDER              45307\n",
       "BOYACÁ                 32125\n",
       "ATLÁNTICO              21253\n",
       "TOLIMA                 21103\n",
       "HUILA                  19966\n",
       "META                   19841\n",
       "BOLÍVAR                19159\n",
       "NARIÑO                 17661\n",
       "NORTE DE SANTANDER     17602\n",
       "CAUCA                  17442\n",
       "RISARALDA              16861\n",
       "CÓRDOBA                13128\n",
       "MAGDALENA              11812\n",
       "SUCRE                  11580\n",
       "CALDAS                 11082\n",
       "CESAR                   9800\n",
       "CASANARE                7520\n",
       "QUINDÍO                 6001\n",
       "CAQUETÁ                 5711\n",
       "GUAJIRA                 5098\n",
       "ARAUCA                  4314\n",
       "PUTUMAYO                3882\n",
       "CHOCÓ                   2570\n",
       "AMAZONAS                1500\n",
       "SAN ANDRÉS              1456\n",
       "GUAVIARE                1214\n",
       "GUAINÍA                  633\n",
       "VAUPÉS                   523\n",
       "VICHADA                  506\n",
       "NO REPORTA                 6\n",
       "Name: departamento, dtype: int64"
      ]
     },
     "execution_count": 11,
     "metadata": {},
     "output_type": "execute_result"
    }
   ],
   "source": [
    "# Frequencia das categorias da coluna departamento\n",
    "\n",
    "count = df['departamento'].value_counts()\n",
    "count"
   ]
  },
  {
   "cell_type": "markdown",
   "id": "cbdacde5",
   "metadata": {},
   "source": [
    "### Substituir valores da coluna"
   ]
  },
  {
   "cell_type": "code",
   "execution_count": 12,
   "id": "83427ee0",
   "metadata": {},
   "outputs": [],
   "source": [
    "# Substitui a categoria 'NO REPORTA' por NaN valor nulo\n",
    "\n",
    "df['departamento'].replace('NO REPORTA', NaN, inplace=True)\n"
   ]
  },
  {
   "cell_type": "code",
   "execution_count": 13,
   "id": "661cb14f",
   "metadata": {},
   "outputs": [],
   "source": [
    "# As linhas que contém valores nulos na coluna departamento são removidas,\n",
    "# Resulta um DataFrame que contém apenas as linhas que não contêm valores nulos na coluna departamento.\n",
    "\n",
    "df = df[~df['departamento'].isnull()]"
   ]
  },
  {
   "cell_type": "code",
   "execution_count": 14,
   "id": "36dca066",
   "metadata": {},
   "outputs": [],
   "source": [
    "# Localiza no DataFrame a coluna municipio e filtra o valor 'BOGOTA' e na coluna departameto substitui o valor 'SANTAFE'\n",
    "\n",
    "df.loc[df['municipio']== 'BOGOTÁ D.C. (CT)', 'departamento'] = 'SANTAFE DE BOGOTA D.C'"
   ]
  },
  {
   "cell_type": "code",
   "execution_count": 15,
   "id": "d2484b24",
   "metadata": {},
   "outputs": [],
   "source": [
    "#Substitui valores de um dataframe:\n",
    "\n",
    "df['gênero'] = df['gênero'].replace({'NO REPORTADO':'NO REPORTA', '-':'NO REPORTA'})\n",
    "df['grupo_etario'] = df['grupo_etario'].replace('NO REPORTADO', 'NO REPORTA')\n",
    "df['arma_usada'] = df['arma_usada'].replace({'CONTUNDENTES':'ARMA BLANCA', \n",
    "                                            'ARMA BLANCA / CORTOPUNZANTE':'ARMA BLANCA', \n",
    "                                            'CORTOPUNZANTES':'ARMA BLANCA',\n",
    "                                            'CORTANTES':'ARMA BLANCA', \n",
    "                                            'PUNZANTES':'ARMA BLANCA',\n",
    "                                            'NO REPORTADO':'NO REPORTA', \n",
    "                                            '-':'NO REPORTA'})"
   ]
  },
  {
   "cell_type": "code",
   "execution_count": 16,
   "id": "fccc6c90",
   "metadata": {},
   "outputs": [
    {
     "name": "stdout",
     "output_type": "stream",
     "text": [
      "['MASCULINO', 'FEMENINO', 'NO REPORTA']\n",
      "Categories (3, object): ['FEMENINO', 'MASCULINO', 'NO REPORTA'] ['ADULTOS', 'ADOLESCENTES', 'MENORES', 'NO REPORTA', NaN]\n",
      "Categories (4, object): ['ADOLESCENTES', 'ADULTOS', 'MENORES', 'NO REPORTA'] ['ARMA BLANCA', 'ARMA DE FUEGO', 'NO REPORTA', 'SIN EMPLEO DE ARMAS', 'ESCOPOLAMINA']\n",
      "Categories (5, object): ['ARMA DE FUEGO', 'ARMA BLANCA', 'ESCOPOLAMINA', 'NO REPORTA', 'SIN EMPLEO DE ARMAS']\n"
     ]
    }
   ],
   "source": [
    "#Imprime os valores únicos das colunas \n",
    "print(df['gênero'].unique(), \n",
    "      df['grupo_etario'].unique(), \n",
    "      df['arma_usada'].unique())"
   ]
  },
  {
   "cell_type": "code",
   "execution_count": 17,
   "id": "f995bc04",
   "metadata": {},
   "outputs": [
    {
     "data": {
      "text/plain": [
       "quantidade    3442\n",
       "dtype: int64"
      ]
     },
     "execution_count": 17,
     "metadata": {},
     "output_type": "execute_result"
    }
   ],
   "source": [
    "# verificar outiler na coluna quantidade, absurdo quatidade>20, quantos casos tem outiler\n",
    "#Cria um novo dataframe com apenas a coluna quantidade, onde os valores são maiores que 20\n",
    "\n",
    "df[['quantidade']].query('quantidade > 20').count()\n"
   ]
  },
  {
   "cell_type": "code",
   "execution_count": 18,
   "id": "d3f2e20d",
   "metadata": {},
   "outputs": [],
   "source": [
    "# Cria um novo dataframe com as linhas com os valores da coluna quantidade < 20, exclui os index com esses valore\n",
    "# e redefine os novos index do dataframe\n",
    "\n",
    "df = df.query('quantidade < 20').reset_index(drop=True)"
   ]
  },
  {
   "cell_type": "code",
   "execution_count": 23,
   "id": "e9922a84",
   "metadata": {},
   "outputs": [
    {
     "data": {
      "text/html": [
       "<div>\n",
       "<style scoped>\n",
       "    .dataframe tbody tr th:only-of-type {\n",
       "        vertical-align: middle;\n",
       "    }\n",
       "\n",
       "    .dataframe tbody tr th {\n",
       "        vertical-align: top;\n",
       "    }\n",
       "\n",
       "    .dataframe thead th {\n",
       "        text-align: right;\n",
       "    }\n",
       "</style>\n",
       "<table border=\"1\" class=\"dataframe\">\n",
       "  <thead>\n",
       "    <tr style=\"text-align: right;\">\n",
       "      <th></th>\n",
       "      <th>Unnamed: 0</th>\n",
       "      <th>departamento</th>\n",
       "      <th>municipio</th>\n",
       "      <th>arma_usada</th>\n",
       "      <th>data_crime</th>\n",
       "      <th>gênero</th>\n",
       "      <th>grupo_etario</th>\n",
       "      <th>quantidade</th>\n",
       "    </tr>\n",
       "  </thead>\n",
       "  <tbody>\n",
       "    <tr>\n",
       "      <th>0</th>\n",
       "      <td>0</td>\n",
       "      <td>ATLÁNTICO</td>\n",
       "      <td>BARRANQUILLA (CT)</td>\n",
       "      <td>ARMA BLANCA</td>\n",
       "      <td>2010-01-01</td>\n",
       "      <td>MASCULINO</td>\n",
       "      <td>ADULTOS</td>\n",
       "      <td>1</td>\n",
       "    </tr>\n",
       "    <tr>\n",
       "      <th>1</th>\n",
       "      <td>1</td>\n",
       "      <td>BOYACÁ</td>\n",
       "      <td>DUITAMA</td>\n",
       "      <td>ARMA BLANCA</td>\n",
       "      <td>2010-01-01</td>\n",
       "      <td>FEMENINO</td>\n",
       "      <td>ADULTOS</td>\n",
       "      <td>1</td>\n",
       "    </tr>\n",
       "    <tr>\n",
       "      <th>2</th>\n",
       "      <td>2</td>\n",
       "      <td>CAQUETÁ</td>\n",
       "      <td>PUERTO RICO</td>\n",
       "      <td>ARMA BLANCA</td>\n",
       "      <td>2010-01-01</td>\n",
       "      <td>MASCULINO</td>\n",
       "      <td>ADULTOS</td>\n",
       "      <td>1</td>\n",
       "    </tr>\n",
       "    <tr>\n",
       "      <th>3</th>\n",
       "      <td>3</td>\n",
       "      <td>CASANARE</td>\n",
       "      <td>MANÍ</td>\n",
       "      <td>ARMA BLANCA</td>\n",
       "      <td>2010-01-01</td>\n",
       "      <td>FEMENINO</td>\n",
       "      <td>ADULTOS</td>\n",
       "      <td>1</td>\n",
       "    </tr>\n",
       "    <tr>\n",
       "      <th>4</th>\n",
       "      <td>4</td>\n",
       "      <td>SANTAFE DE BOGOTA D.C</td>\n",
       "      <td>BOGOTÁ D.C. (CT)</td>\n",
       "      <td>ARMA BLANCA</td>\n",
       "      <td>2010-01-01</td>\n",
       "      <td>FEMENINO</td>\n",
       "      <td>ADULTOS</td>\n",
       "      <td>1</td>\n",
       "    </tr>\n",
       "    <tr>\n",
       "      <th>...</th>\n",
       "      <td>...</td>\n",
       "      <td>...</td>\n",
       "      <td>...</td>\n",
       "      <td>...</td>\n",
       "      <td>...</td>\n",
       "      <td>...</td>\n",
       "      <td>...</td>\n",
       "      <td>...</td>\n",
       "    </tr>\n",
       "    <tr>\n",
       "      <th>572068</th>\n",
       "      <td>575716</td>\n",
       "      <td>VALLE</td>\n",
       "      <td>CARTAGO</td>\n",
       "      <td>SIN EMPLEO DE ARMAS</td>\n",
       "      <td>2023-02-28</td>\n",
       "      <td>FEMENINO</td>\n",
       "      <td>ADULTOS</td>\n",
       "      <td>1</td>\n",
       "    </tr>\n",
       "    <tr>\n",
       "      <th>572069</th>\n",
       "      <td>575717</td>\n",
       "      <td>VALLE</td>\n",
       "      <td>GUACARÍ</td>\n",
       "      <td>SIN EMPLEO DE ARMAS</td>\n",
       "      <td>2023-02-28</td>\n",
       "      <td>FEMENINO</td>\n",
       "      <td>ADULTOS</td>\n",
       "      <td>1</td>\n",
       "    </tr>\n",
       "    <tr>\n",
       "      <th>572070</th>\n",
       "      <td>575718</td>\n",
       "      <td>VALLE</td>\n",
       "      <td>GUADALAJARA DE BUGA</td>\n",
       "      <td>SIN EMPLEO DE ARMAS</td>\n",
       "      <td>2023-02-28</td>\n",
       "      <td>FEMENINO</td>\n",
       "      <td>ADULTOS</td>\n",
       "      <td>1</td>\n",
       "    </tr>\n",
       "    <tr>\n",
       "      <th>572071</th>\n",
       "      <td>575719</td>\n",
       "      <td>VALLE</td>\n",
       "      <td>PALMIRA</td>\n",
       "      <td>SIN EMPLEO DE ARMAS</td>\n",
       "      <td>2023-02-28</td>\n",
       "      <td>FEMENINO</td>\n",
       "      <td>ADULTOS</td>\n",
       "      <td>2</td>\n",
       "    </tr>\n",
       "    <tr>\n",
       "      <th>572072</th>\n",
       "      <td>575720</td>\n",
       "      <td>VALLE</td>\n",
       "      <td>YUMBO</td>\n",
       "      <td>SIN EMPLEO DE ARMAS</td>\n",
       "      <td>2023-02-28</td>\n",
       "      <td>FEMENINO</td>\n",
       "      <td>ADULTOS</td>\n",
       "      <td>1</td>\n",
       "    </tr>\n",
       "  </tbody>\n",
       "</table>\n",
       "<p>572073 rows × 8 columns</p>\n",
       "</div>"
      ],
      "text/plain": [
       "        Unnamed: 0           departamento            municipio  \\\n",
       "0                0              ATLÁNTICO    BARRANQUILLA (CT)   \n",
       "1                1                 BOYACÁ              DUITAMA   \n",
       "2                2                CAQUETÁ          PUERTO RICO   \n",
       "3                3               CASANARE                 MANÍ   \n",
       "4                4  SANTAFE DE BOGOTA D.C     BOGOTÁ D.C. (CT)   \n",
       "...            ...                    ...                  ...   \n",
       "572068      575716                  VALLE              CARTAGO   \n",
       "572069      575717                  VALLE              GUACARÍ   \n",
       "572070      575718                  VALLE  GUADALAJARA DE BUGA   \n",
       "572071      575719                  VALLE              PALMIRA   \n",
       "572072      575720                  VALLE                YUMBO   \n",
       "\n",
       "                 arma_usada data_crime     gênero grupo_etario  quantidade  \n",
       "0               ARMA BLANCA 2010-01-01  MASCULINO      ADULTOS           1  \n",
       "1               ARMA BLANCA 2010-01-01   FEMENINO      ADULTOS           1  \n",
       "2               ARMA BLANCA 2010-01-01  MASCULINO      ADULTOS           1  \n",
       "3               ARMA BLANCA 2010-01-01   FEMENINO      ADULTOS           1  \n",
       "4               ARMA BLANCA 2010-01-01   FEMENINO      ADULTOS           1  \n",
       "...                     ...        ...        ...          ...         ...  \n",
       "572068  SIN EMPLEO DE ARMAS 2023-02-28   FEMENINO      ADULTOS           1  \n",
       "572069  SIN EMPLEO DE ARMAS 2023-02-28   FEMENINO      ADULTOS           1  \n",
       "572070  SIN EMPLEO DE ARMAS 2023-02-28   FEMENINO      ADULTOS           1  \n",
       "572071  SIN EMPLEO DE ARMAS 2023-02-28   FEMENINO      ADULTOS           2  \n",
       "572072  SIN EMPLEO DE ARMAS 2023-02-28   FEMENINO      ADULTOS           1  \n",
       "\n",
       "[572073 rows x 8 columns]"
      ]
     },
     "execution_count": 23,
     "metadata": {},
     "output_type": "execute_result"
    }
   ],
   "source": [
    "df"
   ]
  },
  {
   "cell_type": "code",
   "execution_count": 19,
   "id": "ac6cec75",
   "metadata": {},
   "outputs": [],
   "source": [
    "# Salvar o dataframe após a limpeza dos dados\n",
    "df.to_csv('C:/Users/Samsung/Datasets/date_cleaned.csv')"
   ]
  },
  {
   "cell_type": "code",
   "execution_count": null,
   "id": "c24fad02",
   "metadata": {},
   "outputs": [],
   "source": []
  }
 ],
 "metadata": {
  "kernelspec": {
   "display_name": "Python 3 (ipykernel)",
   "language": "python",
   "name": "python3"
  },
  "language_info": {
   "codemirror_mode": {
    "name": "ipython",
    "version": 3
   },
   "file_extension": ".py",
   "mimetype": "text/x-python",
   "name": "python",
   "nbconvert_exporter": "python",
   "pygments_lexer": "ipython3",
   "version": "3.9.12"
  },
  "toc": {
   "base_numbering": 1,
   "nav_menu": {},
   "number_sections": true,
   "sideBar": true,
   "skip_h1_title": false,
   "title_cell": "Table of Contents",
   "title_sidebar": "Contents",
   "toc_cell": false,
   "toc_position": {
    "height": "calc(100% - 180px)",
    "left": "10px",
    "top": "150px",
    "width": "204px"
   },
   "toc_section_display": true,
   "toc_window_display": true
  }
 },
 "nbformat": 4,
 "nbformat_minor": 5
}
