{
 "cells": [
  {
   "cell_type": "code",
   "execution_count": 1,
   "id": "5d89e4f5",
   "metadata": {},
   "outputs": [],
   "source": [
    "#Bibliotecas\n",
    "\n",
    "import pandas as pd\n",
    "import numpy as np\n"
   ]
  },
  {
   "cell_type": "code",
   "execution_count": 2,
   "id": "d8d061da",
   "metadata": {},
   "outputs": [],
   "source": [
    "# ler um dataframe\n",
    "\n",
    "df_produtos = pd.read_csv('C:/Users/Samsung/Datasets/Kaggle/Product_range.csv')"
   ]
  },
  {
   "cell_type": "code",
   "execution_count": 3,
   "id": "51d4ac12",
   "metadata": {},
   "outputs": [
    {
     "data": {
      "text/html": [
       "<div>\n",
       "<style scoped>\n",
       "    .dataframe tbody tr th:only-of-type {\n",
       "        vertical-align: middle;\n",
       "    }\n",
       "\n",
       "    .dataframe tbody tr th {\n",
       "        vertical-align: top;\n",
       "    }\n",
       "\n",
       "    .dataframe thead th {\n",
       "        text-align: right;\n",
       "    }\n",
       "</style>\n",
       "<table border=\"1\" class=\"dataframe\">\n",
       "  <thead>\n",
       "    <tr style=\"text-align: right;\">\n",
       "      <th></th>\n",
       "      <th>Product_code</th>\n",
       "      <th>Vendor_code</th>\n",
       "      <th>Name</th>\n",
       "      <th>Retail_price</th>\n",
       "      <th>Base_unit</th>\n",
       "      <th>Country_of_Origin</th>\n",
       "      <th>Size</th>\n",
       "      <th>ABV</th>\n",
       "    </tr>\n",
       "  </thead>\n",
       "  <tbody>\n",
       "    <tr>\n",
       "      <th>0</th>\n",
       "      <td>5028</td>\n",
       "      <td>NaN</td>\n",
       "      <td>1 Symbiotica Apple 0.375</td>\n",
       "      <td>300.0</td>\n",
       "      <td>Pieces</td>\n",
       "      <td>Russia</td>\n",
       "      <td>0.375</td>\n",
       "      <td>4.5</td>\n",
       "    </tr>\n",
       "    <tr>\n",
       "      <th>1</th>\n",
       "      <td>4846</td>\n",
       "      <td>NaN</td>\n",
       "      <td>1 Symbiotica Hard Kombucha Renegade Aronia 0.33</td>\n",
       "      <td>200.0</td>\n",
       "      <td>Pieces</td>\n",
       "      <td>Russia</td>\n",
       "      <td>0.330</td>\n",
       "      <td>3.0</td>\n",
       "    </tr>\n",
       "    <tr>\n",
       "      <th>2</th>\n",
       "      <td>1340</td>\n",
       "      <td>NaN</td>\n",
       "      <td>1000 IBU Imperial IPA Barrel l</td>\n",
       "      <td>960.0</td>\n",
       "      <td>Liters</td>\n",
       "      <td>NaN</td>\n",
       "      <td>1.000</td>\n",
       "      <td>9.6</td>\n",
       "    </tr>\n",
       "    <tr>\n",
       "      <th>3</th>\n",
       "      <td>4372</td>\n",
       "      <td>NaN</td>\n",
       "      <td>18th Street Brewery</td>\n",
       "      <td>NaN</td>\n",
       "      <td>NaN</td>\n",
       "      <td>USA</td>\n",
       "      <td>NaN</td>\n",
       "      <td>NaN</td>\n",
       "    </tr>\n",
       "    <tr>\n",
       "      <th>4</th>\n",
       "      <td>4302</td>\n",
       "      <td>NaN</td>\n",
       "      <td>18th Street Brewery Deal With The Devil 0.473</td>\n",
       "      <td>630.0</td>\n",
       "      <td>Pieces</td>\n",
       "      <td>USA</td>\n",
       "      <td>0.473</td>\n",
       "      <td>8.5</td>\n",
       "    </tr>\n",
       "  </tbody>\n",
       "</table>\n",
       "</div>"
      ],
      "text/plain": [
       "   Product_code Vendor_code                                             Name  \\\n",
       "0          5028         NaN                         1 Symbiotica Apple 0.375   \n",
       "1          4846         NaN  1 Symbiotica Hard Kombucha Renegade Aronia 0.33   \n",
       "2          1340         NaN                   1000 IBU Imperial IPA Barrel l   \n",
       "3          4372         NaN                              18th Street Brewery   \n",
       "4          4302         NaN    18th Street Brewery Deal With The Devil 0.473   \n",
       "\n",
       "   Retail_price Base_unit Country_of_Origin   Size  ABV  \n",
       "0         300.0    Pieces            Russia  0.375  4.5  \n",
       "1         200.0    Pieces            Russia  0.330  3.0  \n",
       "2         960.0    Liters               NaN  1.000  9.6  \n",
       "3           NaN       NaN               USA    NaN  NaN  \n",
       "4         630.0    Pieces               USA  0.473  8.5  "
      ]
     },
     "execution_count": 3,
     "metadata": {},
     "output_type": "execute_result"
    }
   ],
   "source": [
    "df_produtos.head()"
   ]
  },
  {
   "cell_type": "code",
   "execution_count": null,
   "id": "e69d7e1d",
   "metadata": {},
   "outputs": [],
   "source": [
    "df_produtos.tail()"
   ]
  },
  {
   "cell_type": "code",
   "execution_count": 4,
   "id": "bac94296",
   "metadata": {},
   "outputs": [
    {
     "data": {
      "text/plain": [
       "Product_code         5314\n",
       "Vendor_code          4288\n",
       "Name                 5314\n",
       "Retail_price         4878\n",
       "Base_unit            4910\n",
       "Country_of_Origin    4205\n",
       "Size                 4626\n",
       "ABV                  4622\n",
       "dtype: int64"
      ]
     },
     "execution_count": 4,
     "metadata": {},
     "output_type": "execute_result"
    }
   ],
   "source": [
    "#Contagem da quantidade de valores não nulo/ausentes nas colunas\n",
    "\n",
    "df_produtos.count()"
   ]
  },
  {
   "cell_type": "code",
   "execution_count": 11,
   "id": "d15c87c9",
   "metadata": {},
   "outputs": [
    {
     "data": {
      "text/plain": [
       "Product_code           int64\n",
       "Vendor_code           object\n",
       "Name                  object\n",
       "Retail_price         float64\n",
       "Base_unit             object\n",
       "Country_of_Origin     object\n",
       "Size                 float64\n",
       "ABV                  float64\n",
       "dtype: object"
      ]
     },
     "execution_count": 11,
     "metadata": {},
     "output_type": "execute_result"
    }
   ],
   "source": [
    "# Informação do tipo econtagem dos valores não nulos das colunas\n",
    "\n",
    "df_produtos.dtypes"
   ]
  },
  {
   "cell_type": "code",
   "execution_count": 12,
   "id": "17ec7477",
   "metadata": {},
   "outputs": [
    {
     "data": {
      "text/html": [
       "<div>\n",
       "<style scoped>\n",
       "    .dataframe tbody tr th:only-of-type {\n",
       "        vertical-align: middle;\n",
       "    }\n",
       "\n",
       "    .dataframe tbody tr th {\n",
       "        vertical-align: top;\n",
       "    }\n",
       "\n",
       "    .dataframe thead th {\n",
       "        text-align: right;\n",
       "    }\n",
       "</style>\n",
       "<table border=\"1\" class=\"dataframe\">\n",
       "  <thead>\n",
       "    <tr style=\"text-align: right;\">\n",
       "      <th></th>\n",
       "      <th>Product_code</th>\n",
       "      <th>Retail_price</th>\n",
       "      <th>Size</th>\n",
       "      <th>ABV</th>\n",
       "    </tr>\n",
       "  </thead>\n",
       "  <tbody>\n",
       "    <tr>\n",
       "      <th>count</th>\n",
       "      <td>5314.000000</td>\n",
       "      <td>4878.000000</td>\n",
       "      <td>4626.000000</td>\n",
       "      <td>4622.000000</td>\n",
       "    </tr>\n",
       "    <tr>\n",
       "      <th>mean</th>\n",
       "      <td>2690.844750</td>\n",
       "      <td>637.839502</td>\n",
       "      <td>0.626917</td>\n",
       "      <td>7.074273</td>\n",
       "    </tr>\n",
       "    <tr>\n",
       "      <th>std</th>\n",
       "      <td>1543.217814</td>\n",
       "      <td>504.895006</td>\n",
       "      <td>0.953290</td>\n",
       "      <td>2.457970</td>\n",
       "    </tr>\n",
       "    <tr>\n",
       "      <th>min</th>\n",
       "      <td>2.000000</td>\n",
       "      <td>1.000000</td>\n",
       "      <td>0.150000</td>\n",
       "      <td>0.500000</td>\n",
       "    </tr>\n",
       "    <tr>\n",
       "      <th>25%</th>\n",
       "      <td>1357.250000</td>\n",
       "      <td>350.000000</td>\n",
       "      <td>0.330000</td>\n",
       "      <td>5.300000</td>\n",
       "    </tr>\n",
       "    <tr>\n",
       "      <th>50%</th>\n",
       "      <td>2690.500000</td>\n",
       "      <td>520.000000</td>\n",
       "      <td>0.500000</td>\n",
       "      <td>6.500000</td>\n",
       "    </tr>\n",
       "    <tr>\n",
       "      <th>75%</th>\n",
       "      <td>4027.750000</td>\n",
       "      <td>730.000000</td>\n",
       "      <td>1.000000</td>\n",
       "      <td>8.200000</td>\n",
       "    </tr>\n",
       "    <tr>\n",
       "      <th>max</th>\n",
       "      <td>5358.000000</td>\n",
       "      <td>8484.850000</td>\n",
       "      <td>30.000000</td>\n",
       "      <td>21.000000</td>\n",
       "    </tr>\n",
       "  </tbody>\n",
       "</table>\n",
       "</div>"
      ],
      "text/plain": [
       "       Product_code  Retail_price         Size          ABV\n",
       "count   5314.000000   4878.000000  4626.000000  4622.000000\n",
       "mean    2690.844750    637.839502     0.626917     7.074273\n",
       "std     1543.217814    504.895006     0.953290     2.457970\n",
       "min        2.000000      1.000000     0.150000     0.500000\n",
       "25%     1357.250000    350.000000     0.330000     5.300000\n",
       "50%     2690.500000    520.000000     0.500000     6.500000\n",
       "75%     4027.750000    730.000000     1.000000     8.200000\n",
       "max     5358.000000   8484.850000    30.000000    21.000000"
      ]
     },
     "execution_count": 12,
     "metadata": {},
     "output_type": "execute_result"
    }
   ],
   "source": [
    "#Resumo descritivo estatístico de cada coluna\n",
    "\n",
    "df_produtos.describe()"
   ]
  },
  {
   "cell_type": "code",
   "execution_count": 13,
   "id": "b949c64c",
   "metadata": {},
   "outputs": [
    {
     "data": {
      "text/html": [
       "<div>\n",
       "<style scoped>\n",
       "    .dataframe tbody tr th:only-of-type {\n",
       "        vertical-align: middle;\n",
       "    }\n",
       "\n",
       "    .dataframe tbody tr th {\n",
       "        vertical-align: top;\n",
       "    }\n",
       "\n",
       "    .dataframe thead th {\n",
       "        text-align: right;\n",
       "    }\n",
       "</style>\n",
       "<table border=\"1\" class=\"dataframe\">\n",
       "  <thead>\n",
       "    <tr style=\"text-align: right;\">\n",
       "      <th></th>\n",
       "      <th>Date_and_time_of_unloading</th>\n",
       "      <th>Product_code</th>\n",
       "      <th>Amount</th>\n",
       "      <th>Sale_amount</th>\n",
       "      <th>Discount_amount</th>\n",
       "      <th>Profit</th>\n",
       "      <th>Percentage_markup</th>\n",
       "      <th>Discount_percentage</th>\n",
       "    </tr>\n",
       "  </thead>\n",
       "  <tbody>\n",
       "    <tr>\n",
       "      <th>0</th>\n",
       "      <td>2020-01-01 23:00:00</td>\n",
       "      <td>144</td>\n",
       "      <td>1.0</td>\n",
       "      <td>280.00</td>\n",
       "      <td>NaN</td>\n",
       "      <td>155.00</td>\n",
       "      <td>124.00</td>\n",
       "      <td>NaN</td>\n",
       "    </tr>\n",
       "    <tr>\n",
       "      <th>1</th>\n",
       "      <td>2020-01-01 23:00:00</td>\n",
       "      <td>209</td>\n",
       "      <td>2.0</td>\n",
       "      <td>545.73</td>\n",
       "      <td>294.27</td>\n",
       "      <td>75.73</td>\n",
       "      <td>16.11</td>\n",
       "      <td>35.03</td>\n",
       "    </tr>\n",
       "    <tr>\n",
       "      <th>2</th>\n",
       "      <td>2020-01-01 23:00:00</td>\n",
       "      <td>213</td>\n",
       "      <td>2.0</td>\n",
       "      <td>1265.05</td>\n",
       "      <td>34.95</td>\n",
       "      <td>653.05</td>\n",
       "      <td>106.71</td>\n",
       "      <td>2.69</td>\n",
       "    </tr>\n",
       "    <tr>\n",
       "      <th>3</th>\n",
       "      <td>2020-01-01 23:00:00</td>\n",
       "      <td>217</td>\n",
       "      <td>1.0</td>\n",
       "      <td>630.00</td>\n",
       "      <td>70.00</td>\n",
       "      <td>220.50</td>\n",
       "      <td>53.85</td>\n",
       "      <td>10.00</td>\n",
       "    </tr>\n",
       "    <tr>\n",
       "      <th>4</th>\n",
       "      <td>2020-01-01 23:00:00</td>\n",
       "      <td>222</td>\n",
       "      <td>2.0</td>\n",
       "      <td>1104.75</td>\n",
       "      <td>195.25</td>\n",
       "      <td>393.75</td>\n",
       "      <td>55.38</td>\n",
       "      <td>15.02</td>\n",
       "    </tr>\n",
       "  </tbody>\n",
       "</table>\n",
       "</div>"
      ],
      "text/plain": [
       "  Date_and_time_of_unloading  Product_code  Amount  Sale_amount  \\\n",
       "0        2020-01-01 23:00:00           144     1.0       280.00   \n",
       "1        2020-01-01 23:00:00           209     2.0       545.73   \n",
       "2        2020-01-01 23:00:00           213     2.0      1265.05   \n",
       "3        2020-01-01 23:00:00           217     1.0       630.00   \n",
       "4        2020-01-01 23:00:00           222     2.0      1104.75   \n",
       "\n",
       "   Discount_amount  Profit  Percentage_markup  Discount_percentage  \n",
       "0              NaN  155.00             124.00                  NaN  \n",
       "1           294.27   75.73              16.11                35.03  \n",
       "2            34.95  653.05             106.71                 2.69  \n",
       "3            70.00  220.50              53.85                10.00  \n",
       "4           195.25  393.75              55.38                15.02  "
      ]
     },
     "execution_count": 13,
     "metadata": {},
     "output_type": "execute_result"
    }
   ],
   "source": [
    "#Leitura da planilha de vendas\n",
    "\n",
    "df_sales = pd.read_csv('C:/Users/Samsung/Datasets/Kaggle/Transactions.csv')\n",
    "df_sales.head()"
   ]
  },
  {
   "cell_type": "code",
   "execution_count": 14,
   "id": "54c78aea",
   "metadata": {},
   "outputs": [
    {
     "data": {
      "text/plain": [
       "Date_and_time_of_unloading     object\n",
       "Product_code                    int64\n",
       "Amount                        float64\n",
       "Sale_amount                   float64\n",
       "Discount_amount               float64\n",
       "Profit                        float64\n",
       "Percentage_markup             float64\n",
       "Discount_percentage           float64\n",
       "dtype: object"
      ]
     },
     "execution_count": 14,
     "metadata": {},
     "output_type": "execute_result"
    }
   ],
   "source": [
    "#Somente a informação do tipo das colunas\n",
    "\n",
    "df_sales.dtypes\n"
   ]
  },
  {
   "cell_type": "code",
   "execution_count": 23,
   "id": "ae0e2954",
   "metadata": {},
   "outputs": [
    {
     "data": {
      "text/html": [
       "<div>\n",
       "<style scoped>\n",
       "    .dataframe tbody tr th:only-of-type {\n",
       "        vertical-align: middle;\n",
       "    }\n",
       "\n",
       "    .dataframe tbody tr th {\n",
       "        vertical-align: top;\n",
       "    }\n",
       "\n",
       "    .dataframe thead th {\n",
       "        text-align: right;\n",
       "    }\n",
       "</style>\n",
       "<table border=\"1\" class=\"dataframe\">\n",
       "  <thead>\n",
       "    <tr style=\"text-align: right;\">\n",
       "      <th></th>\n",
       "      <th>Date_and_time_of_unloading</th>\n",
       "      <th>Product_code</th>\n",
       "      <th>Amount</th>\n",
       "      <th>Sale_amount</th>\n",
       "      <th>Discount_amount</th>\n",
       "      <th>Profit</th>\n",
       "      <th>Percentage_markup</th>\n",
       "      <th>Discount_percentage</th>\n",
       "      <th>Vendor_code</th>\n",
       "      <th>Name</th>\n",
       "      <th>Retail_price</th>\n",
       "      <th>Base_unit</th>\n",
       "      <th>Country_of_Origin</th>\n",
       "      <th>Size</th>\n",
       "      <th>ABV</th>\n",
       "    </tr>\n",
       "  </thead>\n",
       "  <tbody>\n",
       "    <tr>\n",
       "      <th>0</th>\n",
       "      <td>2020-01-01 23:00:00</td>\n",
       "      <td>144</td>\n",
       "      <td>1.0</td>\n",
       "      <td>280.00</td>\n",
       "      <td>NaN</td>\n",
       "      <td>155.00</td>\n",
       "      <td>124.00</td>\n",
       "      <td>NaN</td>\n",
       "      <td>AF Brew</td>\n",
       "      <td>AF Brew Zimnjaja Melanholija Coffee + Vanilla ...</td>\n",
       "      <td>280.0</td>\n",
       "      <td>Pieces</td>\n",
       "      <td>Russia</td>\n",
       "      <td>0.33</td>\n",
       "      <td>10.3</td>\n",
       "    </tr>\n",
       "    <tr>\n",
       "      <th>1</th>\n",
       "      <td>2020-01-01 23:00:00</td>\n",
       "      <td>209</td>\n",
       "      <td>2.0</td>\n",
       "      <td>545.73</td>\n",
       "      <td>294.27</td>\n",
       "      <td>75.73</td>\n",
       "      <td>16.11</td>\n",
       "      <td>35.03</td>\n",
       "      <td>Pohjala</td>\n",
       "      <td>Pohjala Mutant Disco / IPA / 6.8% / 0,/ but</td>\n",
       "      <td>420.0</td>\n",
       "      <td>Pieces</td>\n",
       "      <td>Estonia</td>\n",
       "      <td>0.33</td>\n",
       "      <td>6.8</td>\n",
       "    </tr>\n",
       "    <tr>\n",
       "      <th>2</th>\n",
       "      <td>2020-01-01 23:00:00</td>\n",
       "      <td>213</td>\n",
       "      <td>2.0</td>\n",
       "      <td>1265.05</td>\n",
       "      <td>34.95</td>\n",
       "      <td>653.05</td>\n",
       "      <td>106.71</td>\n",
       "      <td>2.69</td>\n",
       "      <td>Kerisac</td>\n",
       "      <td>Cider Kerisac Cidre Breton Brut Traditionnel /...</td>\n",
       "      <td>650.0</td>\n",
       "      <td>Pieces</td>\n",
       "      <td>France</td>\n",
       "      <td>1.00</td>\n",
       "      <td>6.0</td>\n",
       "    </tr>\n",
       "    <tr>\n",
       "      <th>3</th>\n",
       "      <td>2020-01-01 23:00:00</td>\n",
       "      <td>217</td>\n",
       "      <td>1.0</td>\n",
       "      <td>630.00</td>\n",
       "      <td>70.00</td>\n",
       "      <td>220.50</td>\n",
       "      <td>53.85</td>\n",
       "      <td>10.00</td>\n",
       "      <td>Savoie</td>\n",
       "      <td>Cider Savoie Cidre of Apples and Pears Brut / ...</td>\n",
       "      <td>870.0</td>\n",
       "      <td>Pieces</td>\n",
       "      <td>France</td>\n",
       "      <td>0.75</td>\n",
       "      <td>4.5</td>\n",
       "    </tr>\n",
       "    <tr>\n",
       "      <th>4</th>\n",
       "      <td>2020-01-01 23:00:00</td>\n",
       "      <td>222</td>\n",
       "      <td>2.0</td>\n",
       "      <td>1104.75</td>\n",
       "      <td>195.25</td>\n",
       "      <td>393.75</td>\n",
       "      <td>55.38</td>\n",
       "      <td>15.02</td>\n",
       "      <td>Bellot</td>\n",
       "      <td>Cider Bellot Cidre de Cru du Pays d’Othe Brut ...</td>\n",
       "      <td>770.0</td>\n",
       "      <td>Pieces</td>\n",
       "      <td>France</td>\n",
       "      <td>0.75</td>\n",
       "      <td>5.0</td>\n",
       "    </tr>\n",
       "  </tbody>\n",
       "</table>\n",
       "</div>"
      ],
      "text/plain": [
       "  Date_and_time_of_unloading  Product_code  Amount  Sale_amount  \\\n",
       "0        2020-01-01 23:00:00           144     1.0       280.00   \n",
       "1        2020-01-01 23:00:00           209     2.0       545.73   \n",
       "2        2020-01-01 23:00:00           213     2.0      1265.05   \n",
       "3        2020-01-01 23:00:00           217     1.0       630.00   \n",
       "4        2020-01-01 23:00:00           222     2.0      1104.75   \n",
       "\n",
       "   Discount_amount  Profit  Percentage_markup  Discount_percentage  \\\n",
       "0              NaN  155.00             124.00                  NaN   \n",
       "1           294.27   75.73              16.11                35.03   \n",
       "2            34.95  653.05             106.71                 2.69   \n",
       "3            70.00  220.50              53.85                10.00   \n",
       "4           195.25  393.75              55.38                15.02   \n",
       "\n",
       "  Vendor_code                                               Name  \\\n",
       "0     AF Brew  AF Brew Zimnjaja Melanholija Coffee + Vanilla ...   \n",
       "1     Pohjala        Pohjala Mutant Disco / IPA / 6.8% / 0,/ but   \n",
       "2     Kerisac  Cider Kerisac Cidre Breton Brut Traditionnel /...   \n",
       "3      Savoie  Cider Savoie Cidre of Apples and Pears Brut / ...   \n",
       "4      Bellot  Cider Bellot Cidre de Cru du Pays d’Othe Brut ...   \n",
       "\n",
       "   Retail_price Base_unit Country_of_Origin  Size   ABV  \n",
       "0         280.0    Pieces            Russia  0.33  10.3  \n",
       "1         420.0    Pieces           Estonia  0.33   6.8  \n",
       "2         650.0    Pieces            France  1.00   6.0  \n",
       "3         870.0    Pieces            France  0.75   4.5  \n",
       "4         770.0    Pieces            France  0.75   5.0  "
      ]
     },
     "execution_count": 23,
     "metadata": {},
     "output_type": "execute_result"
    }
   ],
   "source": [
    "# Juntando dois dataframes\n",
    "\n",
    "df = df_sales.merge(df_produtos, on = ['Product_code'], how = 'left')\n",
    "df.head(5)\n"
   ]
  },
  {
   "cell_type": "code",
   "execution_count": 25,
   "id": "8f9f945c",
   "metadata": {},
   "outputs": [],
   "source": [
    "# Realizando uma junção das planilhas vendas e produtos, levando informações da planilha produtos para a planilha vendas \n",
    "\n",
    "#df1 = df_sales.merge(df_produtos, how='left', left_on=['Product_code'], right_on=['Product_code'])"
   ]
  },
  {
   "cell_type": "code",
   "execution_count": 26,
   "id": "ee0dccd1",
   "metadata": {},
   "outputs": [],
   "source": [
    "#df1.head(5)\n",
    "\n"
   ]
  },
  {
   "cell_type": "code",
   "execution_count": null,
   "id": "2084b544",
   "metadata": {},
   "outputs": [],
   "source": [
    "df.info()"
   ]
  },
  {
   "cell_type": "code",
   "execution_count": 27,
   "id": "6a3751fc",
   "metadata": {},
   "outputs": [
    {
     "data": {
      "text/plain": [
       "Date_and_time_of_unloading        0\n",
       "Product_code                      0\n",
       "Amount                            0\n",
       "Sale_amount                      51\n",
       "Discount_amount               10202\n",
       "Profit                           14\n",
       "Percentage_markup              1939\n",
       "Discount_percentage           10202\n",
       "Vendor_code                    6324\n",
       "Name                              0\n",
       "Retail_price                      3\n",
       "Base_unit                         0\n",
       "Country_of_Origin              8509\n",
       "Size                           5836\n",
       "ABV                            5850\n",
       "dtype: int64"
      ]
     },
     "execution_count": 27,
     "metadata": {},
     "output_type": "execute_result"
    }
   ],
   "source": [
    "#Verificando valores ausentes: Soma dos valores nulos encotrados\n",
    "\n",
    "df.isnull().sum()"
   ]
  },
  {
   "cell_type": "code",
   "execution_count": 28,
   "id": "254d445d",
   "metadata": {},
   "outputs": [
    {
     "data": {
      "text/plain": [
       "Date_and_time_of_unloading     0.000000\n",
       "Product_code                   0.000000\n",
       "Amount                         0.000000\n",
       "Sale_amount                    0.101829\n",
       "Discount_amount               20.369779\n",
       "Profit                         0.027953\n",
       "Percentage_markup              3.871496\n",
       "Discount_percentage           20.369779\n",
       "Vendor_code                   12.626787\n",
       "Name                           0.000000\n",
       "Retail_price                   0.005990\n",
       "Base_unit                      0.000000\n",
       "Country_of_Origin             16.989458\n",
       "Size                          11.652424\n",
       "ABV                           11.680377\n",
       "dtype: float64"
      ]
     },
     "execution_count": 28,
     "metadata": {},
     "output_type": "execute_result"
    }
   ],
   "source": [
    "#Porcentagem de valores ausentes \n",
    "\n",
    "#Porcentagem_ausentes1 = (df.isnull().sum()/ len(df['Product_code']))*100\n",
    "Porcentagem_ausentes = (df.isnull().sum()/ df['Product_code'].count())*100\n",
    "Porcentagem_ausentes\n",
    "\n",
    "\n",
    "\n"
   ]
  },
  {
   "cell_type": "code",
   "execution_count": null,
   "id": "8e03ddf2",
   "metadata": {},
   "outputs": [],
   "source": [
    "# Função utilizada para preencher os valores ausentes: fillna\n",
    "\n",
    "df[\"Vendor_code\"] = df[\"Vendor_code\"].fillna(0)\n",
    "df[\"Discount_amount\"] = df[\"Discount_amount\"].fillna(0)\n",
    "df[\"Country_of_Origin\"] = df[\"Country_of_Origin\"].fillna('Nenhuma')\n"
   ]
  },
  {
   "cell_type": "code",
   "execution_count": null,
   "id": "9a9ad680",
   "metadata": {},
   "outputs": [],
   "source": [
    "df.isnull().sum()"
   ]
  },
  {
   "cell_type": "code",
   "execution_count": null,
   "id": "9a726815",
   "metadata": {},
   "outputs": [],
   "source": [
    "df[\"Sale_amount\"] = df[\"Sale_amount\"].fillna(df[\"Sale_amount\"].mean())"
   ]
  },
  {
   "cell_type": "code",
   "execution_count": null,
   "id": "510bd79b",
   "metadata": {},
   "outputs": [],
   "source": [
    "df.isnull().sum()"
   ]
  },
  {
   "cell_type": "code",
   "execution_count": null,
   "id": "460367d4",
   "metadata": {},
   "outputs": [],
   "source": [
    "df['Discount_percentage']  = df['Discount_percentage'].fillna(0)"
   ]
  },
  {
   "cell_type": "code",
   "execution_count": null,
   "id": "f0e0d31d",
   "metadata": {},
   "outputs": [],
   "source": [
    "df.isnull().sum()"
   ]
  },
  {
   "cell_type": "code",
   "execution_count": null,
   "id": "05b7c41e",
   "metadata": {},
   "outputs": [],
   "source": [
    "#Função para criar a coluna de categorias\n",
    "\n",
    "def alco_categoric(abv):\n",
    "    if abv > 2.0:\n",
    "        return 'Alco'\n",
    "    if abv <= 2.0:\n",
    "        return 'Low_Alco'\n",
    "    else:\n",
    "        return 'No_alco'\n",
    "    \n",
    "df['Alco_Type'] = df['ABV'].apply(alco_categoric)"
   ]
  },
  {
   "cell_type": "code",
   "execution_count": null,
   "id": "d246631d",
   "metadata": {},
   "outputs": [],
   "source": [
    "#Frequencia das categorias value_counts\n",
    "\n",
    "df['Alco_Type'].value_counts()"
   ]
  },
  {
   "cell_type": "code",
   "execution_count": null,
   "id": "13c2986c",
   "metadata": {},
   "outputs": [],
   "source": [
    "df.tail()"
   ]
  },
  {
   "cell_type": "code",
   "execution_count": null,
   "id": "b87d1416",
   "metadata": {},
   "outputs": [],
   "source": [
    "#Adicionando duas colunas no dataframe df\n",
    "\n",
    "df['Retail_price'] = (df['Sale_amount'] + df['Discount_amount']) / df['Amount']\n",
    "df['Retail_sum'] = df['Sale_amount'] + df['Discount_amount']"
   ]
  },
  {
   "cell_type": "code",
   "execution_count": null,
   "id": "c80e6d8a",
   "metadata": {},
   "outputs": [],
   "source": [
    "df.head()\n"
   ]
  },
  {
   "cell_type": "code",
   "execution_count": null,
   "id": "e83fe6f3",
   "metadata": {},
   "outputs": [],
   "source": [
    "#Função replace: usada para substituir strings\n",
    "df['Country_of_Origin'].replace('Russia', 'Guerra', inplace=True)"
   ]
  },
  {
   "cell_type": "code",
   "execution_count": null,
   "id": "00a146ed",
   "metadata": {},
   "outputs": [],
   "source": [
    "df['Country_of_Origin']"
   ]
  },
  {
   "cell_type": "code",
   "execution_count": 5,
   "id": "642b6214",
   "metadata": {},
   "outputs": [
    {
     "data": {
      "text/html": [
       "<div>\n",
       "<style scoped>\n",
       "    .dataframe tbody tr th:only-of-type {\n",
       "        vertical-align: middle;\n",
       "    }\n",
       "\n",
       "    .dataframe tbody tr th {\n",
       "        vertical-align: top;\n",
       "    }\n",
       "\n",
       "    .dataframe thead th {\n",
       "        text-align: right;\n",
       "    }\n",
       "</style>\n",
       "<table border=\"1\" class=\"dataframe\">\n",
       "  <thead>\n",
       "    <tr style=\"text-align: right;\">\n",
       "      <th></th>\n",
       "      <th>Name</th>\n",
       "      <th>Age</th>\n",
       "      <th>Salary</th>\n",
       "      <th>JOB</th>\n",
       "    </tr>\n",
       "  </thead>\n",
       "  <tbody>\n",
       "    <tr>\n",
       "      <th>0</th>\n",
       "      <td>RACHEL</td>\n",
       "      <td>30</td>\n",
       "      <td>100000</td>\n",
       "      <td>DESIGNER</td>\n",
       "    </tr>\n",
       "    <tr>\n",
       "      <th>1</th>\n",
       "      <td>MONICA</td>\n",
       "      <td>35</td>\n",
       "      <td>93000</td>\n",
       "      <td>CHEF</td>\n",
       "    </tr>\n",
       "    <tr>\n",
       "      <th>2</th>\n",
       "      <td>PHOEBE</td>\n",
       "      <td>37</td>\n",
       "      <td>88000</td>\n",
       "      <td>MASUS</td>\n",
       "    </tr>\n",
       "    <tr>\n",
       "      <th>3</th>\n",
       "      <td>ROSS</td>\n",
       "      <td>33</td>\n",
       "      <td>120000</td>\n",
       "      <td>PALENTOLOGY</td>\n",
       "    </tr>\n",
       "    <tr>\n",
       "      <th>4</th>\n",
       "      <td>CHANDLER</td>\n",
       "      <td>34</td>\n",
       "      <td>94000</td>\n",
       "      <td>IT</td>\n",
       "    </tr>\n",
       "    <tr>\n",
       "      <th>5</th>\n",
       "      <td>JOEY</td>\n",
       "      <td>30</td>\n",
       "      <td>95000</td>\n",
       "      <td>ARTIST</td>\n",
       "    </tr>\n",
       "  </tbody>\n",
       "</table>\n",
       "</div>"
      ],
      "text/plain": [
       "         Name  Age  Salary          JOB\n",
       "0    RACHEL     30  100000     DESIGNER\n",
       "1    MONICA     35   93000         CHEF\n",
       "2    PHOEBE     37   88000        MASUS\n",
       "3    ROSS       33  120000  PALENTOLOGY\n",
       "4    CHANDLER   34   94000           IT\n",
       "5    JOEY       30   95000       ARTIST"
      ]
     },
     "metadata": {},
     "output_type": "display_data"
    }
   ],
   "source": [
    "# import module\n",
    "import pandas as pd\n",
    "import numpy as np\n",
    "  \n",
    "# assign data\n",
    "dataFrame = pd.DataFrame({'Name': [' RACHEL  ', ' MONICA  ', ' PHOEBE  ',\n",
    "                                   '  ROSS    ', 'CHANDLER', ' JOEY    '],\n",
    "                            \n",
    "                          'Age': [30, 35, 37, 33, 34, 30],\n",
    "                            \n",
    "                          'Salary': [100000, 93000, 88000, 120000, 94000, 95000],\n",
    "                            \n",
    "                          'JOB': ['DESIGNER', 'CHEF', 'MASUS', 'PALENTOLOGY',\n",
    "                                  'IT', 'ARTIST']})\n",
    "  \n",
    "# display dataframe\n",
    "display(dataFrame)"
   ]
  },
  {
   "cell_type": "code",
   "execution_count": 6,
   "id": "a5851074",
   "metadata": {},
   "outputs": [],
   "source": [
    "# filter dataframe usando loc\n",
    "\n",
    "df = dataFrame.loc[(dataFrame['Salary']>=100000) & (dataFrame['Age']< 40) & (dataFrame['JOB'].str.startswith('D')),\n",
    "                    ['Name','JOB']]\n"
   ]
  },
  {
   "cell_type": "code",
   "execution_count": 7,
   "id": "df323456",
   "metadata": {},
   "outputs": [
    {
     "data": {
      "text/html": [
       "<div>\n",
       "<style scoped>\n",
       "    .dataframe tbody tr th:only-of-type {\n",
       "        vertical-align: middle;\n",
       "    }\n",
       "\n",
       "    .dataframe tbody tr th {\n",
       "        vertical-align: top;\n",
       "    }\n",
       "\n",
       "    .dataframe thead th {\n",
       "        text-align: right;\n",
       "    }\n",
       "</style>\n",
       "<table border=\"1\" class=\"dataframe\">\n",
       "  <thead>\n",
       "    <tr style=\"text-align: right;\">\n",
       "      <th></th>\n",
       "      <th>Name</th>\n",
       "      <th>JOB</th>\n",
       "    </tr>\n",
       "  </thead>\n",
       "  <tbody>\n",
       "    <tr>\n",
       "      <th>0</th>\n",
       "      <td>RACHEL</td>\n",
       "      <td>DESIGNER</td>\n",
       "    </tr>\n",
       "  </tbody>\n",
       "</table>\n",
       "</div>"
      ],
      "text/plain": [
       "        Name       JOB\n",
       "0   RACHEL    DESIGNER"
      ]
     },
     "execution_count": 7,
     "metadata": {},
     "output_type": "execute_result"
    }
   ],
   "source": [
    "df.head()\n"
   ]
  },
  {
   "cell_type": "code",
   "execution_count": 8,
   "id": "2187c3ce",
   "metadata": {},
   "outputs": [
    {
     "name": "stdout",
     "output_type": "stream",
     "text": [
      "(array([0], dtype=int64),)\n"
     ]
    },
    {
     "data": {
      "text/html": [
       "<div>\n",
       "<style scoped>\n",
       "    .dataframe tbody tr th:only-of-type {\n",
       "        vertical-align: middle;\n",
       "    }\n",
       "\n",
       "    .dataframe tbody tr th {\n",
       "        vertical-align: top;\n",
       "    }\n",
       "\n",
       "    .dataframe thead th {\n",
       "        text-align: right;\n",
       "    }\n",
       "</style>\n",
       "<table border=\"1\" class=\"dataframe\">\n",
       "  <thead>\n",
       "    <tr style=\"text-align: right;\">\n",
       "      <th></th>\n",
       "      <th>Name</th>\n",
       "      <th>Age</th>\n",
       "      <th>Salary</th>\n",
       "      <th>JOB</th>\n",
       "    </tr>\n",
       "  </thead>\n",
       "  <tbody>\n",
       "    <tr>\n",
       "      <th>0</th>\n",
       "      <td>RACHEL</td>\n",
       "      <td>30</td>\n",
       "      <td>100000</td>\n",
       "      <td>DESIGNER</td>\n",
       "    </tr>\n",
       "  </tbody>\n",
       "</table>\n",
       "</div>"
      ],
      "text/plain": [
       "        Name  Age  Salary       JOB\n",
       "0   RACHEL     30  100000  DESIGNER"
      ]
     },
     "metadata": {},
     "output_type": "display_data"
    }
   ],
   "source": [
    "# filter dataframe                                   \n",
    "filtered_values = np.where((dataFrame['Salary']>=100000) & (dataFrame['Age']< 40) & (dataFrame['JOB'].str.startswith('D')))\n",
    "print(filtered_values)\n",
    "display(dataFrame.loc[filtered_values])"
   ]
  },
  {
   "cell_type": "code",
   "execution_count": 13,
   "id": "6f086cfd",
   "metadata": {},
   "outputs": [
    {
     "name": "stdout",
     "output_type": "stream",
     "text": [
      "    Nome     Cidade\n",
      "0   João  São Paulo\n",
      "2  Pedro  São Paulo\n"
     ]
    }
   ],
   "source": [
    "import pandas as pd\n",
    "\n",
    "# Criando um dataframe de exemplo\n",
    "data = {'Nome': ['João', 'Maria', 'Pedro', 'Ana'],\n",
    "        'Idade': [25, 30, 35, 40],\n",
    "        'Cidade': ['São Paulo', 'Rio de Janeiro', 'São Paulo', 'Rio de Janeiro']}\n",
    "df = pd.DataFrame(data)\n",
    "\n",
    "# Filtrando colunas baseado em uma condição na coluna \"Cidade\"\n",
    "colunas_filtradas = df.loc[df['Cidade'] == 'São Paulo', ['Nome', 'Cidade']]\n",
    "\n",
    "# Exibindo o resultado\n",
    "print(colunas_filtradas)\n"
   ]
  },
  {
   "cell_type": "code",
   "execution_count": 14,
   "id": "ebf2214d",
   "metadata": {},
   "outputs": [
    {
     "name": "stdout",
     "output_type": "stream",
     "text": [
      "    Nome  Idade     Cidade\n",
      "0   João     25  São Paulo\n",
      "2  Pedro     35  São Paulo\n"
     ]
    }
   ],
   "source": [
    "import pandas as pd\n",
    "\n",
    "# Criando um dataframe de exemplo\n",
    "data = {'Nome': ['João', 'Maria', 'Pedro', 'Ana'],\n",
    "        'Idade': [25, 30, 35, 40],\n",
    "        'Cidade': ['São Paulo', 'Rio de Janeiro', 'São Paulo', 'Rio de Janeiro']}\n",
    "df = pd.DataFrame(data)\n",
    "\n",
    "# Filtrando colunas baseado em condições nas colunas \"Nome\" e \"Cidade\"\n",
    "colunas_filtradas = df.loc[(df['Nome'].isin(['João', 'Pedro'])) & (df['Cidade'] == 'São Paulo'), :]\n",
    "\n",
    "# Exibindo o resultado\n",
    "print(colunas_filtradas)\n"
   ]
  },
  {
   "cell_type": "code",
   "execution_count": 15,
   "id": "5f46878e",
   "metadata": {},
   "outputs": [
    {
     "name": "stdout",
     "output_type": "stream",
     "text": [
      "    Nome     Cidade\n",
      "0   João  São Paulo\n",
      "2  Pedro  São Paulo\n"
     ]
    }
   ],
   "source": [
    "import pandas as pd\n",
    "\n",
    "# Criando um dataframe de exemplo\n",
    "data = {'Nome': ['João', 'Maria', 'Pedro', 'Ana'],\n",
    "        'Idade': [25, 30, 35, 40],\n",
    "        'Cidade': ['São Paulo', 'Rio de Janeiro', 'São Paulo', 'Rio de Janeiro']}\n",
    "df = pd.DataFrame(data)\n",
    "\n",
    "# Filtrando colunas baseado em uma condição na coluna \"Cidade\"\n",
    "colunas_filtradas = df.loc[df['Cidade'] == 'São Paulo', ['Nome', 'Cidade']]\n",
    "\n",
    "# Exibindo o resultado\n",
    "print(colunas_filtradas)\n"
   ]
  },
  {
   "cell_type": "code",
   "execution_count": 3,
   "id": "494134e6",
   "metadata": {},
   "outputs": [
    {
     "name": "stdout",
     "output_type": "stream",
     "text": [
      "           CPF\n",
      "0  xxxxxx78900\n",
      "1  xxxxxx32100\n",
      "2  xxxxxx57900\n"
     ]
    }
   ],
   "source": [
    "import pandas as pd\n",
    "\n",
    "# Criando um DataFrame de exemplo\n",
    "data = {'CPF': ['12345678900', '98765432100', '24681357900']}\n",
    "df = pd.DataFrame(data)\n",
    "\n",
    "# Substituindo os números do meio por \"xxx\"\n",
    "df['CPF'] = df['CPF'].replace(r'\\d{3}(?=\\d{3})', 'xxx', regex=True)\n",
    "\n",
    "# Exibindo o DataFrame resultante\n",
    "print(df)\n"
   ]
  },
  {
   "cell_type": "code",
   "execution_count": null,
   "id": "21df4011",
   "metadata": {},
   "outputs": [],
   "source": []
  }
 ],
 "metadata": {
  "kernelspec": {
   "display_name": "Python 3 (ipykernel)",
   "language": "python",
   "name": "python3"
  },
  "language_info": {
   "codemirror_mode": {
    "name": "ipython",
    "version": 3
   },
   "file_extension": ".py",
   "mimetype": "text/x-python",
   "name": "python",
   "nbconvert_exporter": "python",
   "pygments_lexer": "ipython3",
   "version": "3.9.12"
  },
  "toc": {
   "base_numbering": 1,
   "nav_menu": {},
   "number_sections": true,
   "sideBar": true,
   "skip_h1_title": false,
   "title_cell": "Table of Contents",
   "title_sidebar": "Contents",
   "toc_cell": false,
   "toc_position": {},
   "toc_section_display": true,
   "toc_window_display": false
  }
 },
 "nbformat": 4,
 "nbformat_minor": 5
}
