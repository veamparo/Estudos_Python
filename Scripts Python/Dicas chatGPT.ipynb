{
 "cells": [
  {
   "cell_type": "code",
   "execution_count": null,
   "id": "1c39dbb2",
   "metadata": {},
   "outputs": [],
   "source": [
    "import pandas as pd\n",
    "\n",
    "# Criando um DataFrame de exemplo\n",
    "data = {'CPF': ['12345678900', '98765432100', '24681357900']}\n",
    "df = pd.DataFrame(data)\n",
    "\n",
    "# Substituindo os números do meio por \"xxx\"\n",
    "df['CPF'] = df['CPF'].replace(r'\\d{3}(?=\\d{3})', 'xxx', regex=True)\n",
    "\n",
    "# Exibindo o DataFrame resultante\n",
    "print(df)\n"
   ]
  },
  {
   "cell_type": "code",
   "execution_count": null,
   "id": "1a10890b",
   "metadata": {},
   "outputs": [],
   "source": [
    "import pandas as pd\n",
    "\n",
    "# Criando um DataFrame de exemplo\n",
    "data = {'CPF': ['12345678900', '98765432100', '24681357900']}\n",
    "df = pd.DataFrame(data)\n",
    "\n",
    "# Substituindo os números do meio por \"xxx\"\n",
    "df['CPF'] = df['CPF'].str[:6] + 'xxx' + df['CPF'].str[-2:]\n",
    "\n",
    "# Exibindo o DataFrame resultante\n",
    "print(df)\n"
   ]
  },
  {
   "cell_type": "markdown",
   "id": "ad3a6b2e",
   "metadata": {},
   "source": [
    "Nesse exemplo, utilizamos a função str[:6] para obter os seis primeiros dígitos do CPF, em seguida, adicionamos \"xxx\" e concatenamos com os dois últimos dígitos do CPF, obtidos por str[-2:]. Dessa forma, substituímos apenas os números do meio pelo \"xxx\"."
   ]
  },
  {
   "cell_type": "code",
   "execution_count": null,
   "id": "9cecb127",
   "metadata": {},
   "outputs": [],
   "source": [
    "\n",
    "# Criando um DataFrame de exemplo\n",
    "data = {'CPF': ['12345678900', '98765432100', '24681357900']}\n",
    "df = pd.DataFrame(data)\n",
    "\n",
    "# Substituindo os números do meio por \"xxx\"\n",
    "df['CPF'] = df['CPF'].str[:4] + 'xxxxx' + df['CPF'].str[-2:]\n",
    "\n",
    "# Exibindo o DataFrame resultante\n",
    "print(df)\n"
   ]
  },
  {
   "cell_type": "code",
   "execution_count": null,
   "id": "c3651bd1",
   "metadata": {},
   "outputs": [],
   "source": [
    "CPF1='12345678900'\n",
    "CPF1[:3]"
   ]
  },
  {
   "cell_type": "code",
   "execution_count": null,
   "id": "d959e3ce",
   "metadata": {},
   "outputs": [],
   "source": [
    "CPF1='12345678900'\n",
    "CPF1[-3:]"
   ]
  },
  {
   "cell_type": "code",
   "execution_count": null,
   "id": "1eb9a7d7",
   "metadata": {},
   "outputs": [],
   "source": [
    "import pandas as pd\n",
    "\n",
    "def identificar_cpf_cnpj(valor):\n",
    "    if len(valor) >= 12:\n",
    "        return 'CNPJ'\n",
    "    elif len(valor) >= 7:\n",
    "        return 'CPF'\n",
    "    else:\n",
    "        return 'Indefinido'\n",
    "\n",
    "# Criando um DataFrame de exemplo\n",
    "data = {'Documento': ['12345678900', '12345678901234', '1234567', '1234567890']}\n",
    "df = pd.DataFrame(data)\n",
    "\n",
    "# Aplicando a função para identificar CPF ou CNPJ\n",
    "df['Tipo'] = df['Documento'].apply(identificar_cpf_cnpj)\n",
    "\n",
    "# Exibindo o DataFrame resultante\n",
    "print(df)\n"
   ]
  },
  {
   "cell_type": "code",
   "execution_count": null,
   "id": "efb3c07a",
   "metadata": {},
   "outputs": [],
   "source": [
    "import pandas as pd\n",
    "\n",
    "def completar_zeros(valor, tipo):\n",
    "    if tipo == 'CPF' and len(valor) >= 7:\n",
    "        return valor.zfill(11)\n",
    "    elif tipo == 'CNPJ' and len(valor) >= 12:\n",
    "        return valor.zfill(14)\n",
    "    else:\n",
    "        return valor\n",
    "\n",
    "# Criando um DataFrame de exemplo\n",
    "data = {'Documento': ['12345678900', '12345678901234', '1234567', '1234567890'],\n",
    "        'Tipo': ['CPF', 'CNPJ', 'Indefinido', 'Indefinido']}\n",
    "df = pd.DataFrame(data)\n",
    "\n",
    "# Aplicando a função para completar zeros nos valores da coluna 'Documento'\n",
    "df['Documento'] = df.apply(lambda row: completar_zeros(row['Documento'], row['Tipo']), axis=1)\n",
    "\n",
    "# Exibindo o DataFrame resultante\n",
    "print(df)\n"
   ]
  },
  {
   "cell_type": "code",
   "execution_count": null,
   "id": "44c95dfc",
   "metadata": {},
   "outputs": [],
   "source": [
    "import pandas as pd\n",
    "\n",
    "def completar_zeros(valor, tipo):\n",
    "    if tipo == 'CPF' and len(valor) >= 7:\n",
    "        return valor.zfill(11)\n",
    "    elif tipo == 'CNPJ' and len(valor) >= 12:\n",
    "        return valor.zfill(14)\n",
    "    else:\n",
    "        return valor\n",
    "\n",
    "# Criando um DataFrame de exemplo\n",
    "data = {'Documento': ['12345678900', '12345678901234', '1234567', '1234567890'],\n",
    "        'Tipo': ['CPF', 'CNPJ', 'Indefinido', 'Indefinido']}\n",
    "df = pd.DataFrame(data)\n",
    "\n",
    "# Criando uma nova coluna 'Documento Modificado' com os valores completados\n",
    "df['Documento Modificado'] = df.apply(lambda row: completar_zeros(row['Documento'], row['Tipo']), axis=1)\n",
    "\n",
    "# Exibindo o DataFrame resultante\n",
    "print(df)\n"
   ]
  },
  {
   "cell_type": "code",
   "execution_count": null,
   "id": "0138192b",
   "metadata": {},
   "outputs": [],
   "source": [
    "import pandas as pd\n",
    "\n",
    "def completar_zeros(valor, tipo):\n",
    "    if tipo == 'CPF' and len(valor) >= 7:\n",
    "        return valor[:6] + valor[6:].zfill(5)\n",
    "    elif tipo == 'CNPJ' and len(valor) >= 12:\n",
    "        return valor[:12].zfill(14)\n",
    "    else:\n",
    "        return valor\n",
    "\n",
    "# Criando um DataFrame de exemplo\n",
    "data = {'Documento': ['123456789', '12345678901234', '1234567', '1234567890'],\n",
    "        'Tipo': ['CPF', 'CNPJ', 'Indefinido', 'Indefinido']}\n",
    "df = pd.DataFrame(data)\n",
    "\n",
    "# Criando uma nova coluna 'Documento Modificado' com os valores completados\n",
    "df['Documento Modificado'] = df.apply(lambda row: completar_zeros(row['Documento'], row['Tipo']), axis=1)\n",
    "\n",
    "# Exibindo o DataFrame resultante\n",
    "print(df)\n"
   ]
  },
  {
   "cell_type": "code",
   "execution_count": null,
   "id": "e2993d33",
   "metadata": {},
   "outputs": [],
   "source": [
    "import pandas as pd\n",
    "\n",
    "def completar_zeros(documento):\n",
    "    if len(documento) >= 12:\n",
    "        return documento.zfill(14)\n",
    "    elif len(documento) >= 7:\n",
    "        return documento.zfill(11)\n",
    "    else:\n",
    "        return documento\n",
    "\n",
    "# Criando um DataFrame de exemplo\n",
    "data = {'Documento': ['123456789', '12345678901234', '24681357900']}\n",
    "df = pd.DataFrame(data)\n",
    "\n",
    "# Aplicando a função para completar os zeros na coluna 'Documento'\n",
    "df['Documento Modificado'] = df['Documento'].apply(completar_zeros)\n",
    "\n",
    "# Exibindo o DataFrame resultante\n",
    "print(df)\n"
   ]
  },
  {
   "cell_type": "code",
   "execution_count": 1,
   "id": "7eb31912",
   "metadata": {},
   "outputs": [
    {
     "name": "stdout",
     "output_type": "stream",
     "text": [
      "      Documento Documento Modificado\n",
      "0       1234567          12345670000\n",
      "1  123456789016       12345678901600\n",
      "2     246813579          24681357900\n"
     ]
    }
   ],
   "source": [
    "import pandas as pd\n",
    "\n",
    "def completar_zeros(documento):\n",
    "    if len(documento) >= 12:\n",
    "        return documento.ljust(14, '0')\n",
    "    elif len(documento) >= 7:\n",
    "        return documento.ljust(11, '0')\n",
    "    else:\n",
    "        return documento\n",
    "\n",
    "# Criando um DataFrame de exemplo\n",
    "data = {'Documento': ['1234567', '123456789016', '246813579']}\n",
    "df = pd.DataFrame(data)\n",
    "\n",
    "# Aplicando a função para completar com zeros na coluna 'Documento'\n",
    "df['Documento Modificado'] = df['Documento'].apply(completar_zeros)\n",
    "\n",
    "# Exibindo o DataFrame resultante\n",
    "print(df)\n"
   ]
  },
  {
   "cell_type": "markdown",
   "id": "2eb37764",
   "metadata": {},
   "source": [
    "Nesse exemplo, a função completar_zeros() recebe o valor da coluna 'Documento' e, com base em sua quantidade de dígitos, realiza o preenchimento com zeros à direita utilizando o método ljust(). Se o valor tiver 12 ou mais dígitos, a função retorna o valor original com zeros adicionais para atingir 14 dígitos. Se o valor tiver 7 ou mais dígitos, a função retorna o valor original com zeros adicionais para atingir 11 dígitos. Caso contrário, o valor é mantido sem alterações.\n",
    "\n",
    "Em seguida, a função completar_zeros() é aplicada à coluna 'Documento' usando o método apply(), e os resultados são salvos na nova coluna 'Documento Modificado' do DataFrame."
   ]
  },
  {
   "cell_type": "code",
   "execution_count": 2,
   "id": "63835b16",
   "metadata": {},
   "outputs": [
    {
     "name": "stdout",
     "output_type": "stream",
     "text": [
      "      Documento Documento Modificado  Tipo\n",
      "0       1234567          12345670000   CPF\n",
      "1  123456789016       12345678901600  CNPJ\n",
      "2     246813579          24681357900   CPF\n"
     ]
    }
   ],
   "source": [
    "def identificar_cpf_cnpj(valor):\n",
    "    if len(valor) >= 12:\n",
    "        return 'CNPJ'\n",
    "    elif len(valor) >= 7:\n",
    "        return 'CPF'\n",
    "    else:\n",
    "        return 'Indefinido'\n",
    "\n",
    "\n",
    "# Aplicando a função para identificar CPF ou CNPJ\n",
    "df['Tipo'] = df['Documento Modificado'].apply(identificar_cpf_cnpj)\n",
    "\n",
    "# Exibindo o DataFrame resultante\n",
    "print(df)"
   ]
  },
  {
   "cell_type": "code",
   "execution_count": 2,
   "id": "6274b631",
   "metadata": {},
   "outputs": [
    {
     "data": {
      "text/plain": [
       "'963'"
      ]
     },
     "execution_count": 2,
     "metadata": {},
     "output_type": "execute_result"
    }
   ],
   "source": [
    "cpf = \"22963792816\"\n",
    "cpf[2:5]\n"
   ]
  },
  {
   "cell_type": "code",
   "execution_count": 4,
   "id": "4a1ae7e5",
   "metadata": {},
   "outputs": [
    {
     "data": {
      "text/plain": [
       "'16'"
      ]
     },
     "execution_count": 4,
     "metadata": {},
     "output_type": "execute_result"
    }
   ],
   "source": [
    "cpf[-2:]"
   ]
  },
  {
   "cell_type": "code",
   "execution_count": null,
   "id": "44ff2057",
   "metadata": {},
   "outputs": [],
   "source": [
    "import pandas as pd\n",
    "\n",
    "# Função que recebe duas datas como argumentos\n",
    "def calcular_diferenca_dias(data1, data2):\n",
    "    diferenca = data1 - data2\n",
    "    return diferenca.days\n",
    "\n",
    "# Criar DataFrame de exemplo\n",
    "df = pd.DataFrame({\n",
    "    'Data1': pd.to_datetime(['2023-01-01', '2023-02-01', '2023-03-01']),\n",
    "    'Data2': pd.to_datetime(['2023-01-05', '2023-02-10', '2023-03-15'])\n",
    "})\n",
    "\n",
    "# Aplicar a função nas colunas de datas do DataFrame\n",
    "df['Diferenca_dias'] = df.apply(lambda row: calcular_diferenca_dias(row['Data1'], row['Data2']), axis=1)\n",
    "\n",
    "# Imprimir o DataFrame resultante\n",
    "print(df)\n"
   ]
  },
  {
   "cell_type": "code",
   "execution_count": null,
   "id": "3b001f24",
   "metadata": {},
   "outputs": [],
   "source": [
    "import pandas as pd\n",
    "\n",
    "# Suponha que você tenha um dataframe chamado df com colunas 'lojas' e 'cpf'\n",
    "\n",
    "# Lista das quatro lojas desejadas\n",
    "lojas_desejadas = ['loja1', 'loja2', 'loja3', 'loja4']\n",
    "\n",
    "# Filtrando o dataframe para incluir apenas as quatro lojas desejadas\n",
    "df_filtrado = df[df['lojas'].isin(lojas_desejadas)]\n",
    "\n",
    "# Contando o número de CPFs distintos nas lojas filtradas\n",
    "numero_de_cpf_distintos = df_filtrado['cpf do cliente'].nunique()\n",
    "\n",
    "print(numero_de_cpf_distintos)\n"
   ]
  }
 ],
 "metadata": {
  "kernelspec": {
   "display_name": "Python 3 (ipykernel)",
   "language": "python",
   "name": "python3"
  },
  "language_info": {
   "codemirror_mode": {
    "name": "ipython",
    "version": 3
   },
   "file_extension": ".py",
   "mimetype": "text/x-python",
   "name": "python",
   "nbconvert_exporter": "python",
   "pygments_lexer": "ipython3",
   "version": "3.9.12"
  },
  "toc": {
   "base_numbering": 1,
   "nav_menu": {},
   "number_sections": true,
   "sideBar": true,
   "skip_h1_title": false,
   "title_cell": "Table of Contents",
   "title_sidebar": "Contents",
   "toc_cell": false,
   "toc_position": {},
   "toc_section_display": true,
   "toc_window_display": false
  }
 },
 "nbformat": 4,
 "nbformat_minor": 5
}
