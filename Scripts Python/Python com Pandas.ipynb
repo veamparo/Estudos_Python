{
 "cells": [
  {
   "cell_type": "markdown",
   "id": "83304d0b",
   "metadata": {},
   "source": [
    "### Biblioteca Pandas"
   ]
  },
  {
   "cell_type": "code",
   "execution_count": null,
   "id": "fc0bc33d",
   "metadata": {},
   "outputs": [],
   "source": [
    "# Bibliotecas \n",
    "\n",
    "import pandas as pd\n",
    "import numpy as np\n",
    "\n"
   ]
  },
  {
   "cell_type": "markdown",
   "id": "6075e9ab",
   "metadata": {},
   "source": [
    "## Series"
   ]
  },
  {
   "cell_type": "code",
   "execution_count": null,
   "id": "ee2986fb",
   "metadata": {},
   "outputs": [],
   "source": [
    "#Series é um objeto tipo array, associado a rotulos de dados, chamado índice\n",
    "\n",
    "obj = pd.Series([4, 7, -5, 3])\n",
    "obj"
   ]
  },
  {
   "cell_type": "code",
   "execution_count": null,
   "id": "0996b8d6",
   "metadata": {},
   "outputs": [],
   "source": [
    "obj.values"
   ]
  },
  {
   "cell_type": "code",
   "execution_count": null,
   "id": "4dd2217e",
   "metadata": {},
   "outputs": [],
   "source": [
    "obj.index"
   ]
  },
  {
   "cell_type": "code",
   "execution_count": null,
   "id": "8ebead9e",
   "metadata": {},
   "outputs": [],
   "source": [
    "Series = pd.Series([7, 4, 2, np.nan, 6, 9])\n",
    "Series"
   ]
  },
  {
   "cell_type": "code",
   "execution_count": null,
   "id": "ce8b4eda",
   "metadata": {},
   "outputs": [],
   "source": [
    "Series.dtype"
   ]
  },
  {
   "cell_type": "code",
   "execution_count": null,
   "id": "c3a11428",
   "metadata": {},
   "outputs": [],
   "source": [
    "obj2 = pd.Series([2, 4, 9, 4, 12], index=['a', 'b', 'c', 'd', 'e'])\n",
    "obj2\n"
   ]
  },
  {
   "cell_type": "code",
   "execution_count": null,
   "id": "7187f8bc",
   "metadata": {},
   "outputs": [],
   "source": [
    "# Selecionar um elemento da serie, pelo index\n",
    "\n",
    "obj2['d']"
   ]
  },
  {
   "cell_type": "code",
   "execution_count": null,
   "id": "13ea14b2",
   "metadata": {},
   "outputs": [],
   "source": [
    "#Inserir um novo elemento na serie no index d\n",
    "\n",
    "obj2['d']=7\n",
    "obj2"
   ]
  },
  {
   "cell_type": "code",
   "execution_count": null,
   "id": "3efe5645",
   "metadata": {},
   "outputs": [],
   "source": [
    "# Operações matematicas\n",
    "\n",
    "obj2[obj2 > 5]"
   ]
  },
  {
   "cell_type": "code",
   "execution_count": null,
   "id": "f09a774a",
   "metadata": {},
   "outputs": [],
   "source": [
    "# Uma serie criada a partir de um dicionário, as chaves do dicionário será os indices da serie.\n",
    "\n",
    "sdata = {'Ohin': 35000, 'Texas': 71000, 'Oregon': 16000, 'Utah': 5000}\n",
    "sdata\n",
    "obj3 = pd.Series(sdata)\n",
    "obj3\n"
   ]
  },
  {
   "cell_type": "code",
   "execution_count": null,
   "id": "61e06ce8",
   "metadata": {},
   "outputs": [],
   "source": [
    "# Função para criar datas\n",
    "\n",
    "datas = pd.date_range(\"20180101\", periods = 6) # vem como padrão frequencia em dias defout\n",
    "datas\n"
   ]
  },
  {
   "cell_type": "code",
   "execution_count": null,
   "id": "8d26b777",
   "metadata": {},
   "outputs": [],
   "source": [
    "# Para saber mais sobre a função ?\n",
    "\n",
    "#?pd.date_range\n",
    "\n",
    "# Para saber mais sobre a estrutura do DataFrame\n",
    "\n",
    "#?pd.DataFrame"
   ]
  },
  {
   "cell_type": "markdown",
   "id": "9e0b4e01",
   "metadata": {},
   "source": [
    "## DataFrame"
   ]
  },
  {
   "cell_type": "code",
   "execution_count": null,
   "id": "fd827fd1",
   "metadata": {},
   "outputs": [],
   "source": [
    "# Dados aleatórios de uma distribuição normal\n",
    "\n",
    "df = pd.DataFrame(np.random.randn(6,4), index = datas, columns = list(\"ABCD\"))\n",
    "df\n"
   ]
  },
  {
   "cell_type": "code",
   "execution_count": null,
   "id": "03325197",
   "metadata": {},
   "outputs": [],
   "source": [
    "# Um dataframe pode receber diversos tipos de dados\n",
    "\n",
    "df2 = pd.DataFrame({\"A\":10,\n",
    "                    \"B\":pd.Timestamp(\"20180102\"),\n",
    "                    \"C\":pd.Series(1, index = list(range(4)), dtype = \"float32\"),\n",
    "                    \"D\":np.array([3]*4, dtype = \"int32\"),\n",
    "                    \"E\":pd.Categorical([\"test\", \"train\", \"test\", \"train\"]),\n",
    "                    \"F\":\"Python\" })\n",
    "df2"
   ]
  },
  {
   "cell_type": "code",
   "execution_count": null,
   "id": "a9f470bf",
   "metadata": {},
   "outputs": [],
   "source": [
    "# O tipo de estrutura dos dados\n",
    "\n",
    "df2.dtypes"
   ]
  },
  {
   "cell_type": "code",
   "execution_count": null,
   "id": "4ec88299",
   "metadata": {},
   "outputs": [],
   "source": [
    "df2.info()"
   ]
  },
  {
   "cell_type": "code",
   "execution_count": null,
   "id": "7f5aff62",
   "metadata": {},
   "outputs": [],
   "source": [
    "\n",
    "datas3 = pd.date_range(\"20190101\", periods = 60)\n",
    "\n",
    "df3 = pd.DataFrame(np.random.rand(60,5), index = datas3, columns = list(\"ABCDE\"))\n",
    "\n",
    "# metodo trás as 5 primeiras linhas do dataframe:\n",
    "df3.head()"
   ]
  },
  {
   "cell_type": "code",
   "execution_count": null,
   "id": "28b46f7a",
   "metadata": {},
   "outputs": [],
   "source": [
    "df3.tail(4)"
   ]
  },
  {
   "cell_type": "code",
   "execution_count": null,
   "id": "9bdfbd47",
   "metadata": {},
   "outputs": [],
   "source": [
    "# Método shape nos fornece a dimensão do dataframe linhas e colunas\n",
    "\n",
    "df3.shape"
   ]
  },
  {
   "cell_type": "code",
   "execution_count": null,
   "id": "6b5dcb15",
   "metadata": {},
   "outputs": [],
   "source": [
    "#Adicionar nova coluna no dataframe, calculos matemáticos e substituir uma coluna\n",
    "\n",
    "df3['F'] = 2\n",
    "df3[\"Produto\"] = df3[\"A\"]*df3[\"B\"]\n",
    "df3['D']=50\n",
    "df3['C'] = 12\n",
    "df3.head()"
   ]
  },
  {
   "cell_type": "markdown",
   "id": "34b7c29d",
   "metadata": {},
   "source": [
    "##  Visualizador de dados"
   ]
  },
  {
   "cell_type": "code",
   "execution_count": null,
   "id": "dc6faa94",
   "metadata": {},
   "outputs": [],
   "source": [
    "#Visualizar as duas primeiras linhas do dataframe\n",
    "\n",
    "df3.head(2)"
   ]
  },
  {
   "cell_type": "code",
   "execution_count": null,
   "id": "e4b35b63",
   "metadata": {},
   "outputs": [],
   "source": [
    "#Visualiza as 3 últimas linhas do dataframe\n",
    "\n",
    "df3.tail(3)"
   ]
  },
  {
   "cell_type": "code",
   "execution_count": null,
   "id": "9fce27ec",
   "metadata": {},
   "outputs": [],
   "source": [
    "#retorna somente os index do dataframe\n",
    "\n",
    "df3.index\n"
   ]
  },
  {
   "cell_type": "code",
   "execution_count": null,
   "id": "50544516",
   "metadata": {},
   "outputs": [],
   "source": [
    "df3.columns"
   ]
  },
  {
   "cell_type": "code",
   "execution_count": null,
   "id": "ac457ca5",
   "metadata": {},
   "outputs": [],
   "source": [
    "# Trazer somente os valores dos dados\n",
    "\n",
    "#df3.to_numpy()"
   ]
  },
  {
   "cell_type": "code",
   "execution_count": null,
   "id": "bccc8c8d",
   "metadata": {},
   "outputs": [],
   "source": [
    "#Combinar dataframes\n",
    "\n",
    "df4=pd.DataFrame({\"A\":[\"A0\", \"A1\",\"A2\",\"A3\"],\n",
    "                  \"B\":[\"B0\", \"B1\",\"B2\",\"B3\"],\n",
    "                  \"C\":[\"C0\", \"C1\",\"C2\",\"C3\"],\n",
    "                  \"D\":[\"D0\", \"D1\",\"D2\",\"D3\"]},\n",
    "                index= [0, 1, 2, 3])\n",
    "\n",
    "df4"
   ]
  },
  {
   "cell_type": "code",
   "execution_count": null,
   "id": "fb5f4d99",
   "metadata": {},
   "outputs": [],
   "source": [
    "df5=pd.DataFrame({\"A\":[\"A4\", \"A5\",\"A6\",\"A7\"],\n",
    "                  \"B\":[\"B4\", \"B5\",\"B6\",\"B7\"],\n",
    "                  \"C\":[\"C4\", \"C5\",\"C6\",\"C7\"],\n",
    "                  \"D\":[\"D4\", \"D5\",\"D6\",\"D7\"]},\n",
    "                index= [4, 5, 6, 7])\n",
    "df5"
   ]
  },
  {
   "cell_type": "code",
   "execution_count": null,
   "id": "78d336d7",
   "metadata": {},
   "outputs": [],
   "source": [
    "df6=pd.DataFrame({\"A\":[\"A8\", \"A9\",\"A10\",\"A11\"],\n",
    "                  \"B\":[\"B8\", \"B9\",\"B10\",\"B11\"],\n",
    "                  \"C\":[\"C8\", \"C9\",\"C10\",\"C11\"],\n",
    "                  \"D\":[\"D8\", \"D9\",\"D10\",\"D11\"]},\n",
    "                index= [8, 9, 10, 11])\n",
    "df6"
   ]
  },
  {
   "cell_type": "code",
   "execution_count": null,
   "id": "f5edf2a0",
   "metadata": {},
   "outputs": [],
   "source": [
    "# Concatenar os três dataframes\n",
    "frames = [df4, df5, df6]\n",
    "frames"
   ]
  },
  {
   "cell_type": "code",
   "execution_count": null,
   "id": "96b2ff96",
   "metadata": {},
   "outputs": [],
   "source": [
    "framesCombinação = pd.concat(frames)\n",
    "framesCombinação"
   ]
  },
  {
   "cell_type": "code",
   "execution_count": null,
   "id": "e1858ef9",
   "metadata": {},
   "outputs": [],
   "source": [
    "#Outra forma de concatenar:\n",
    "\n",
    "data_combinação = pd.concat([df4, df5, df6])\n",
    "\n",
    "data_combinação"
   ]
  },
  {
   "cell_type": "code",
   "execution_count": null,
   "id": "9d355d50",
   "metadata": {},
   "outputs": [],
   "source": [
    "grupo = pd.concat([df4, df5, df6], keys = [\"f1\", \"f2\", \"f3\"])\n",
    "grupo"
   ]
  },
  {
   "cell_type": "code",
   "execution_count": null,
   "id": "0ad44b6e",
   "metadata": {},
   "outputs": [],
   "source": [
    "#Extrair valores do dataframe\n",
    "\n",
    "grupo[\"A\"]"
   ]
  },
  {
   "cell_type": "code",
   "execution_count": null,
   "id": "68ebcc75",
   "metadata": {},
   "outputs": [],
   "source": [
    "#Extrair valores de uma chave\n",
    "\n",
    "grupo.loc[\"f2\"]"
   ]
  },
  {
   "cell_type": "code",
   "execution_count": null,
   "id": "bdb7459b",
   "metadata": {},
   "outputs": [],
   "source": [
    "#Outra forma de concatenar dataframes usando função append\n",
    "\n",
    "# g1 = df4.append(df5).append(df6)\n",
    "\n",
    "# g1\n"
   ]
  },
  {
   "cell_type": "markdown",
   "id": "843c7351",
   "metadata": {},
   "source": [
    "##  Método Merge"
   ]
  },
  {
   "cell_type": "code",
   "execution_count": null,
   "id": "05bb94a5",
   "metadata": {},
   "outputs": [],
   "source": [
    "# Cadastro da loja a\n",
    "cadastro_a = {'Id': ['AA2930','BB4563','CC2139','DE2521','GT3462','HH1158'],\n",
    "            'Nome':  ['Victor', 'Amanda', 'Bruna', 'Carlos', 'Ricardo', 'Maria'],\n",
    "            'Idade': [20, 35, 40, 54, 30, 27],\n",
    "            'CEP': ['00092-029','11111-111','22222-888','00000-999','88888-111','77777-666']\n",
    "           }\n",
    "\n",
    "cadastro_a = pd.DataFrame(cadastro_a, columns = ['Id','Nome','Idade','CEP'])\n",
    "cadastro_a"
   ]
  },
  {
   "cell_type": "code",
   "execution_count": null,
   "id": "242b6580",
   "metadata": {},
   "outputs": [],
   "source": [
    "# Cadastro da loja b\n",
    "cadastro_b = {'Id': ['CC9999','EF4488','DD9999','GT3462','HH1158'],\n",
    "            'Nome':  ['Marcos', 'Patricia', 'Ericka', 'Ricardo', 'Maria'],\n",
    "            'Idade': [19, 30, 22, 30, 27],\n",
    "            'CEP': ['00092-029','11111-111','11111-888','88888-111','77777-666']\n",
    "           }\n",
    " \n",
    "cadastro_b = pd.DataFrame(cadastro_b, columns = ['Id','Nome','Idade','CEP'])\n",
    "cadastro_b"
   ]
  },
  {
   "cell_type": "code",
   "execution_count": null,
   "id": "582dbee2",
   "metadata": {},
   "outputs": [],
   "source": [
    "# Registro de compras de todas unidades\n",
    "\n",
    "compras = {'Id': ['AA2930','EF4488','CC2139','EF4488','CC9999','AA2930','HH1158','HH1158'],\n",
    "            'Data':  ['2019-01-01','2019-01-30','2019-01-30','2019-02-01','2019-02-20','2019-03-15','2019-04-01','2019-04-10'],\n",
    "            'Valor': [200,100,40,150,300,25,50,500]\n",
    "           }\n",
    " \n",
    "compras = pd.DataFrame(compras, columns = ['Id','Data','Valor'])\n",
    "\n",
    "compras"
   ]
  },
  {
   "cell_type": "code",
   "execution_count": null,
   "id": "c651b9fa",
   "metadata": {},
   "outputs": [],
   "source": [
    "# pd.merge(tabela_da_esquerda, tabela_da_direita, on=\"coluna_coincidente\", how=\"left|right|inner|outer\")\n"
   ]
  },
  {
   "cell_type": "code",
   "execution_count": null,
   "id": "6deb93ea",
   "metadata": {},
   "outputs": [],
   "source": [
    "#Inner realiza a interseção entre os dataframes ( o que tem em comun)\n",
    "\n",
    "\n",
    "pd.merge(cadastro_a, cadastro_b, on=['Id'], how=\"inner\")"
   ]
  },
  {
   "cell_type": "code",
   "execution_count": null,
   "id": "000fece0",
   "metadata": {},
   "outputs": [],
   "source": [
    "#função inner, interseção entre os dataframes do cadastro_b não trás o nome\n",
    "\n",
    "pd.merge(cadastro_a, cadastro_b[['Id', 'Idade', 'CEP']], on='Id', how='inner')"
   ]
  },
  {
   "cell_type": "code",
   "execution_count": null,
   "id": "262613d6",
   "metadata": {},
   "outputs": [],
   "source": [
    "#join Full juntar tudo que tem nos dois data frames\n",
    "\n",
    "\n",
    "lojas = pd.concat([cadastro_a, cadastro_b],ignore_index=True)\n",
    "\n",
    "lojas"
   ]
  },
  {
   "cell_type": "code",
   "execution_count": null,
   "id": "4161a1da",
   "metadata": {},
   "outputs": [],
   "source": [
    "#Exclui Id com repetiação, usamos função drop_duplicates\n",
    "\n",
    "Clientes_unicos = lojas.drop_duplicates(subset = 'Id')\n",
    "\n",
    "Clientes_unicos\n"
   ]
  },
  {
   "cell_type": "code",
   "execution_count": null,
   "id": "23a055a5",
   "metadata": {},
   "outputs": [],
   "source": [
    "# left:leva valores dos dataframe da direita compras para a esquerda cadastro_a\n",
    "\n",
    "\n",
    "esquerda = pd.merge(cadastro_a, compras, on = ['Id'], how = 'left')\n",
    "esquerda\n",
    "\n",
    "#esquerda_s = esquerda.drop_duplicates(subset = \"Id\")\n"
   ]
  },
  {
   "cell_type": "code",
   "execution_count": null,
   "id": "657d0fd7",
   "metadata": {},
   "outputs": [],
   "source": [
    "cadastro_a"
   ]
  },
  {
   "cell_type": "code",
   "execution_count": null,
   "id": "8c5ee521",
   "metadata": {},
   "outputs": [],
   "source": [
    "compras"
   ]
  },
  {
   "cell_type": "code",
   "execution_count": null,
   "id": "72b0dd48",
   "metadata": {},
   "outputs": [],
   "source": [
    "# função groupby faz agrupamento pelo id e nome e depois aplica a função soma \n",
    "\n",
    "esquerda01 = esquerda.groupby(['Id', 'Nome'])['Valor'].sum()\n",
    "esquerda01"
   ]
  },
  {
   "cell_type": "code",
   "execution_count": null,
   "id": "43067300",
   "metadata": {},
   "outputs": [],
   "source": [
    "#Função groupby\n",
    "\n",
    "df = pd.DataFrame({\"A\":['Sim', 'Não', 'Sim', 'Não', 'Não', 'Sim', 'Sim', 'Não'],\n",
    "                   \"B\":['Um', 'Um', 'Dois', 'Dois', 'Três', 'Dois', 'Três','Um'],\n",
    "                   \"C\": np.random.randn(8),\n",
    "                   \"D\": np.random.randn(8)})\n",
    "df"
   ]
  },
  {
   "cell_type": "code",
   "execution_count": null,
   "id": "b10e1894",
   "metadata": {},
   "outputs": [],
   "source": [
    "#Aplica a função groupby no data frame faz a soma dos valores das colunas numericas em relação as categorias da coluna A\n",
    "\n",
    "\n",
    "df.groupby([\"A\"]).sum()"
   ]
  },
  {
   "cell_type": "code",
   "execution_count": null,
   "id": "aa78b65a",
   "metadata": {},
   "outputs": [],
   "source": [
    "df.groupby(['B']).sum()"
   ]
  },
  {
   "cell_type": "code",
   "execution_count": null,
   "id": "0f533bc3",
   "metadata": {},
   "outputs": [],
   "source": [
    "\n",
    "df.groupby([\"A\"])['C', 'D'].mean()"
   ]
  },
  {
   "cell_type": "code",
   "execution_count": null,
   "id": "32c14e75",
   "metadata": {},
   "outputs": [],
   "source": [
    "df.groupby(['A', 'B']).sum()"
   ]
  },
  {
   "cell_type": "markdown",
   "id": "69e97db7",
   "metadata": {},
   "source": [
    "## Indexação"
   ]
  },
  {
   "cell_type": "code",
   "execution_count": null,
   "id": "636796b9",
   "metadata": {},
   "outputs": [],
   "source": [
    "#Lista\n",
    "\n",
    "V=[1, 2, 3, 5]"
   ]
  },
  {
   "cell_type": "code",
   "execution_count": null,
   "id": "cdd188bb",
   "metadata": {},
   "outputs": [],
   "source": [
    "V[0]\n"
   ]
  },
  {
   "cell_type": "code",
   "execution_count": null,
   "id": "0064e8e7",
   "metadata": {},
   "outputs": [],
   "source": [
    "V[-1]"
   ]
  },
  {
   "cell_type": "code",
   "execution_count": null,
   "id": "4dce6dae",
   "metadata": {},
   "outputs": [],
   "source": [
    "V[-4]"
   ]
  },
  {
   "cell_type": "code",
   "execution_count": null,
   "id": "ba3f88c1",
   "metadata": {},
   "outputs": [],
   "source": [
    "V[0]= 7\n",
    "V"
   ]
  },
  {
   "cell_type": "code",
   "execution_count": null,
   "id": "cdb1209a",
   "metadata": {},
   "outputs": [],
   "source": [
    "#Adiciona um novo valor na lista append()\n",
    "\n",
    "V.append(8)\n"
   ]
  },
  {
   "cell_type": "code",
   "execution_count": null,
   "id": "4b838586",
   "metadata": {},
   "outputs": [],
   "source": [
    "V"
   ]
  },
  {
   "cell_type": "code",
   "execution_count": null,
   "id": "8c32afd1",
   "metadata": {},
   "outputs": [],
   "source": [
    "#Substitui o valor do indice 1 por 10\n",
    "\n",
    "V.insert(1, 12)"
   ]
  },
  {
   "cell_type": "code",
   "execution_count": null,
   "id": "08475f06",
   "metadata": {},
   "outputs": [],
   "source": [
    "V"
   ]
  },
  {
   "cell_type": "code",
   "execution_count": null,
   "id": "fad6d2ff",
   "metadata": {},
   "outputs": [],
   "source": [
    "#Excluir o valor do indice 1\n",
    "\n",
    "V.pop(1)"
   ]
  },
  {
   "cell_type": "code",
   "execution_count": null,
   "id": "83e24e3a",
   "metadata": {},
   "outputs": [],
   "source": [
    "V"
   ]
  },
  {
   "cell_type": "code",
   "execution_count": null,
   "id": "a156a4fd",
   "metadata": {},
   "outputs": [],
   "source": [
    "import pandas as pd\n",
    "import numpy as np"
   ]
  },
  {
   "cell_type": "code",
   "execution_count": null,
   "id": "34995d70",
   "metadata": {},
   "outputs": [],
   "source": [
    "header = pd.MultiIndex.from_product([ ['Período 1','Período 2'],['Matemática','Estatística'] ])\n",
    "\n",
    "d=([[12,45,67,56],[78,89,45,67],[45,67,89,90],[67,44,56,55]])"
   ]
  },
  {
   "cell_type": "code",
   "execution_count": null,
   "id": "02de6c95",
   "metadata": {},
   "outputs": [],
   "source": [
    "header"
   ]
  },
  {
   "cell_type": "code",
   "execution_count": null,
   "id": "aa74d55f",
   "metadata": {},
   "outputs": [],
   "source": [
    "d"
   ]
  },
  {
   "cell_type": "code",
   "execution_count": null,
   "id": "95e6795c",
   "metadata": {},
   "outputs": [],
   "source": [
    "df = pd.DataFrame(d,index=['Pedro','Felipe','Ricardo','Diego'],columns=header)"
   ]
  },
  {
   "cell_type": "code",
   "execution_count": null,
   "id": "e6f4a23c",
   "metadata": {},
   "outputs": [],
   "source": [
    "df"
   ]
  },
  {
   "cell_type": "code",
   "execution_count": null,
   "id": "e94a5f3e",
   "metadata": {},
   "outputs": [],
   "source": [
    "dft = df.T"
   ]
  },
  {
   "cell_type": "code",
   "execution_count": null,
   "id": "2ae54c8e",
   "metadata": {},
   "outputs": [],
   "source": [
    "df.shape"
   ]
  },
  {
   "cell_type": "code",
   "execution_count": null,
   "id": "8ea956b1",
   "metadata": {},
   "outputs": [],
   "source": [
    "#Somente os valores da matriz\n",
    "\n",
    "dft.values"
   ]
  },
  {
   "cell_type": "code",
   "execution_count": null,
   "id": "a0c64384",
   "metadata": {},
   "outputs": [],
   "source": [
    "#quantidade de valores na matriz\n",
    "\n",
    "np.size(dft)\n"
   ]
  },
  {
   "cell_type": "markdown",
   "id": "5d8c07dc",
   "metadata": {},
   "source": [
    "## Função range"
   ]
  },
  {
   "cell_type": "code",
   "execution_count": null,
   "id": "35622505",
   "metadata": {},
   "outputs": [],
   "source": [
    "# Usando função range\n",
    "\n",
    "for i in range(10):\n",
    "    print(i)"
   ]
  },
  {
   "cell_type": "code",
   "execution_count": null,
   "id": "963ee5ab",
   "metadata": {},
   "outputs": [],
   "source": [
    "valores_dobrados = [valor*2 for valor in range(20)]\n",
    "valores_dobrados"
   ]
  },
  {
   "cell_type": "code",
   "execution_count": null,
   "id": "b9ec2271",
   "metadata": {},
   "outputs": [],
   "source": [
    "var = 'Python'\n",
    "\n",
    "for i in var:  # o i interante percorre a string que está na variável VAR\n",
    "    print(i)"
   ]
  },
  {
   "cell_type": "code",
   "execution_count": 54,
   "id": "5c6e11f9",
   "metadata": {},
   "outputs": [],
   "source": [
    "#Importar as bibliotecas\n",
    "\n",
    "import pandas as pd\n",
    "import numpy as np"
   ]
  },
  {
   "cell_type": "code",
   "execution_count": 55,
   "id": "6210ae27",
   "metadata": {},
   "outputs": [
    {
     "data": {
      "text/plain": [
       "DatetimeIndex(['2019-01-01', '2019-01-02', '2019-01-03', '2019-01-04',\n",
       "               '2019-01-05', '2019-01-06', '2019-01-07', '2019-01-08',\n",
       "               '2019-01-09', '2019-01-10', '2019-01-11', '2019-01-12'],\n",
       "              dtype='datetime64[ns]', freq='D')"
      ]
     },
     "execution_count": 55,
     "metadata": {},
     "output_type": "execute_result"
    }
   ],
   "source": [
    "#Criar um vetor com 12 dias\n",
    "\n",
    "Dias = pd.date_range(start = '20190101', periods = 12)\n",
    "Dias"
   ]
  },
  {
   "cell_type": "code",
   "execution_count": 56,
   "id": "6e013bad",
   "metadata": {},
   "outputs": [
    {
     "data": {
      "text/plain": [
       "['Gorge', 'Vitor', 'Lucas']"
      ]
     },
     "execution_count": 56,
     "metadata": {},
     "output_type": "execute_result"
    }
   ],
   "source": [
    "#Lista com nomes \n",
    "\n",
    "pessoa = ['Gorge', 'Vitor', 'Lucas']\n",
    "pessoa"
   ]
  },
  {
   "cell_type": "code",
   "execution_count": 57,
   "id": "d57b1780",
   "metadata": {},
   "outputs": [
    {
     "data": {
      "text/plain": [
       "'Gorge'"
      ]
     },
     "execution_count": 57,
     "metadata": {},
     "output_type": "execute_result"
    }
   ],
   "source": [
    "# função abaixo escolhe um nome da lista pessoa aleatóriamente\n",
    "\n",
    "\n",
    "np.random.choice(pessoa)\n",
    "\n"
   ]
  },
  {
   "cell_type": "code",
   "execution_count": 58,
   "id": "61f453d4",
   "metadata": {},
   "outputs": [],
   "source": [
    "#Informar os gastos que essas pessoas fizeram em cada dia do ano\n",
    "\n",
    "nome = []\n",
    "gasto = []\n",
    "\n",
    "for i in range(12):\n",
    "    nome.append(np.random.choice(pessoa))\n",
    "    gasto.append(np.round(np.random.rand()*100, 2))\n"
   ]
  },
  {
   "cell_type": "code",
   "execution_count": 59,
   "id": "1e554b90",
   "metadata": {},
   "outputs": [
    {
     "data": {
      "text/plain": [
       "['Vitor',\n",
       " 'Vitor',\n",
       " 'Vitor',\n",
       " 'Vitor',\n",
       " 'Vitor',\n",
       " 'Gorge',\n",
       " 'Gorge',\n",
       " 'Gorge',\n",
       " 'Vitor',\n",
       " 'Vitor',\n",
       " 'Vitor',\n",
       " 'Gorge']"
      ]
     },
     "execution_count": 59,
     "metadata": {},
     "output_type": "execute_result"
    }
   ],
   "source": [
    "nome"
   ]
  },
  {
   "cell_type": "code",
   "execution_count": 60,
   "id": "62db3a89",
   "metadata": {},
   "outputs": [
    {
     "data": {
      "text/plain": [
       "[17.83,\n",
       " 50.26,\n",
       " 57.32,\n",
       " 61.03,\n",
       " 62.08,\n",
       " 0.08,\n",
       " 10.28,\n",
       " 72.07,\n",
       " 56.67,\n",
       " 31.18,\n",
       " 29.02,\n",
       " 76.62]"
      ]
     },
     "execution_count": 60,
     "metadata": {},
     "output_type": "execute_result"
    }
   ],
   "source": [
    "gasto"
   ]
  },
  {
   "cell_type": "code",
   "execution_count": 61,
   "id": "36771d41",
   "metadata": {},
   "outputs": [
    {
     "data": {
      "text/html": [
       "<div>\n",
       "<style scoped>\n",
       "    .dataframe tbody tr th:only-of-type {\n",
       "        vertical-align: middle;\n",
       "    }\n",
       "\n",
       "    .dataframe tbody tr th {\n",
       "        vertical-align: top;\n",
       "    }\n",
       "\n",
       "    .dataframe thead th {\n",
       "        text-align: right;\n",
       "    }\n",
       "</style>\n",
       "<table border=\"1\" class=\"dataframe\">\n",
       "  <thead>\n",
       "    <tr style=\"text-align: right;\">\n",
       "      <th></th>\n",
       "      <th>Dia</th>\n",
       "      <th>Nome</th>\n",
       "      <th>Gasto</th>\n",
       "    </tr>\n",
       "  </thead>\n",
       "  <tbody>\n",
       "    <tr>\n",
       "      <th>0</th>\n",
       "      <td>2019-01-01</td>\n",
       "      <td>Vitor</td>\n",
       "      <td>17.83</td>\n",
       "    </tr>\n",
       "    <tr>\n",
       "      <th>1</th>\n",
       "      <td>2019-01-02</td>\n",
       "      <td>Vitor</td>\n",
       "      <td>50.26</td>\n",
       "    </tr>\n",
       "    <tr>\n",
       "      <th>2</th>\n",
       "      <td>2019-01-03</td>\n",
       "      <td>Vitor</td>\n",
       "      <td>57.32</td>\n",
       "    </tr>\n",
       "    <tr>\n",
       "      <th>3</th>\n",
       "      <td>2019-01-04</td>\n",
       "      <td>Vitor</td>\n",
       "      <td>61.03</td>\n",
       "    </tr>\n",
       "    <tr>\n",
       "      <th>4</th>\n",
       "      <td>2019-01-05</td>\n",
       "      <td>Vitor</td>\n",
       "      <td>62.08</td>\n",
       "    </tr>\n",
       "    <tr>\n",
       "      <th>5</th>\n",
       "      <td>2019-01-06</td>\n",
       "      <td>Gorge</td>\n",
       "      <td>0.08</td>\n",
       "    </tr>\n",
       "    <tr>\n",
       "      <th>6</th>\n",
       "      <td>2019-01-07</td>\n",
       "      <td>Gorge</td>\n",
       "      <td>10.28</td>\n",
       "    </tr>\n",
       "    <tr>\n",
       "      <th>7</th>\n",
       "      <td>2019-01-08</td>\n",
       "      <td>Gorge</td>\n",
       "      <td>72.07</td>\n",
       "    </tr>\n",
       "    <tr>\n",
       "      <th>8</th>\n",
       "      <td>2019-01-09</td>\n",
       "      <td>Vitor</td>\n",
       "      <td>56.67</td>\n",
       "    </tr>\n",
       "    <tr>\n",
       "      <th>9</th>\n",
       "      <td>2019-01-10</td>\n",
       "      <td>Vitor</td>\n",
       "      <td>31.18</td>\n",
       "    </tr>\n",
       "    <tr>\n",
       "      <th>10</th>\n",
       "      <td>2019-01-11</td>\n",
       "      <td>Vitor</td>\n",
       "      <td>29.02</td>\n",
       "    </tr>\n",
       "    <tr>\n",
       "      <th>11</th>\n",
       "      <td>2019-01-12</td>\n",
       "      <td>Gorge</td>\n",
       "      <td>76.62</td>\n",
       "    </tr>\n",
       "  </tbody>\n",
       "</table>\n",
       "</div>"
      ],
      "text/plain": [
       "          Dia   Nome  Gasto\n",
       "0  2019-01-01  Vitor  17.83\n",
       "1  2019-01-02  Vitor  50.26\n",
       "2  2019-01-03  Vitor  57.32\n",
       "3  2019-01-04  Vitor  61.03\n",
       "4  2019-01-05  Vitor  62.08\n",
       "5  2019-01-06  Gorge   0.08\n",
       "6  2019-01-07  Gorge  10.28\n",
       "7  2019-01-08  Gorge  72.07\n",
       "8  2019-01-09  Vitor  56.67\n",
       "9  2019-01-10  Vitor  31.18\n",
       "10 2019-01-11  Vitor  29.02\n",
       "11 2019-01-12  Gorge  76.62"
      ]
     },
     "execution_count": 61,
     "metadata": {},
     "output_type": "execute_result"
    }
   ],
   "source": [
    "#Criar uma dateframe\n",
    "\n",
    "df = pd.DataFrame({'Dia': Dias, 'Nome':nome, 'Gasto':gasto})\n",
    "df\n",
    "\n"
   ]
  },
  {
   "cell_type": "code",
   "execution_count": 62,
   "id": "c028ac6c",
   "metadata": {},
   "outputs": [
    {
     "data": {
      "text/html": [
       "<div>\n",
       "<style scoped>\n",
       "    .dataframe tbody tr th:only-of-type {\n",
       "        vertical-align: middle;\n",
       "    }\n",
       "\n",
       "    .dataframe tbody tr th {\n",
       "        vertical-align: top;\n",
       "    }\n",
       "\n",
       "    .dataframe thead th {\n",
       "        text-align: right;\n",
       "    }\n",
       "</style>\n",
       "<table border=\"1\" class=\"dataframe\">\n",
       "  <thead>\n",
       "    <tr style=\"text-align: right;\">\n",
       "      <th></th>\n",
       "      <th>A</th>\n",
       "      <th>B</th>\n",
       "      <th>C</th>\n",
       "      <th>D</th>\n",
       "      <th>E</th>\n",
       "    </tr>\n",
       "  </thead>\n",
       "  <tbody>\n",
       "    <tr>\n",
       "      <th>2023-01-01</th>\n",
       "      <td>0.740268</td>\n",
       "      <td>0.035607</td>\n",
       "      <td>-0.801651</td>\n",
       "      <td>1.090946</td>\n",
       "      <td>-0.474323</td>\n",
       "    </tr>\n",
       "    <tr>\n",
       "      <th>2023-01-02</th>\n",
       "      <td>3.724532</td>\n",
       "      <td>1.106958</td>\n",
       "      <td>0.024469</td>\n",
       "      <td>1.362755</td>\n",
       "      <td>-0.677078</td>\n",
       "    </tr>\n",
       "    <tr>\n",
       "      <th>2023-01-03</th>\n",
       "      <td>-1.197715</td>\n",
       "      <td>0.176220</td>\n",
       "      <td>-0.321719</td>\n",
       "      <td>-1.137381</td>\n",
       "      <td>-0.659103</td>\n",
       "    </tr>\n",
       "    <tr>\n",
       "      <th>2023-01-04</th>\n",
       "      <td>0.330786</td>\n",
       "      <td>0.472078</td>\n",
       "      <td>0.909398</td>\n",
       "      <td>0.929063</td>\n",
       "      <td>1.713308</td>\n",
       "    </tr>\n",
       "    <tr>\n",
       "      <th>2023-01-05</th>\n",
       "      <td>-0.046027</td>\n",
       "      <td>0.934139</td>\n",
       "      <td>1.035919</td>\n",
       "      <td>0.559475</td>\n",
       "      <td>0.412689</td>\n",
       "    </tr>\n",
       "  </tbody>\n",
       "</table>\n",
       "</div>"
      ],
      "text/plain": [
       "                   A         B         C         D         E\n",
       "2023-01-01  0.740268  0.035607 -0.801651  1.090946 -0.474323\n",
       "2023-01-02  3.724532  1.106958  0.024469  1.362755 -0.677078\n",
       "2023-01-03 -1.197715  0.176220 -0.321719 -1.137381 -0.659103\n",
       "2023-01-04  0.330786  0.472078  0.909398  0.929063  1.713308\n",
       "2023-01-05 -0.046027  0.934139  1.035919  0.559475  0.412689"
      ]
     },
     "execution_count": 62,
     "metadata": {},
     "output_type": "execute_result"
    }
   ],
   "source": [
    "#Selecionar linhas de um dataframe\n",
    "\n",
    "datas = pd.date_range('20230101', periods= 600, freq = 'D')\n",
    "df = pd.DataFrame(np.random.randn(600,5), index = datas, columns= list('ABCDE'))\n",
    "df.head()"
   ]
  },
  {
   "cell_type": "code",
   "execution_count": 63,
   "id": "6a7534c3",
   "metadata": {},
   "outputs": [
    {
     "data": {
      "text/plain": [
       "2023-01-01    1.090946\n",
       "2023-01-02    1.362755\n",
       "2023-01-03   -1.137381\n",
       "2023-01-04    0.929063\n",
       "2023-01-05    0.559475\n",
       "                ...   \n",
       "2024-08-18    0.224255\n",
       "2024-08-19   -0.590344\n",
       "2024-08-20    1.518443\n",
       "2024-08-21    1.057158\n",
       "2024-08-22   -0.346406\n",
       "Freq: D, Name: D, Length: 600, dtype: float64"
      ]
     },
     "execution_count": 63,
     "metadata": {},
     "output_type": "execute_result"
    }
   ],
   "source": [
    "df['D']"
   ]
  },
  {
   "cell_type": "code",
   "execution_count": 64,
   "id": "567b069e",
   "metadata": {},
   "outputs": [
    {
     "data": {
      "text/html": [
       "<div>\n",
       "<style scoped>\n",
       "    .dataframe tbody tr th:only-of-type {\n",
       "        vertical-align: middle;\n",
       "    }\n",
       "\n",
       "    .dataframe tbody tr th {\n",
       "        vertical-align: top;\n",
       "    }\n",
       "\n",
       "    .dataframe thead th {\n",
       "        text-align: right;\n",
       "    }\n",
       "</style>\n",
       "<table border=\"1\" class=\"dataframe\">\n",
       "  <thead>\n",
       "    <tr style=\"text-align: right;\">\n",
       "      <th></th>\n",
       "      <th>B</th>\n",
       "      <th>C</th>\n",
       "      <th>D</th>\n",
       "    </tr>\n",
       "  </thead>\n",
       "  <tbody>\n",
       "    <tr>\n",
       "      <th>2023-01-01</th>\n",
       "      <td>0.035607</td>\n",
       "      <td>-0.801651</td>\n",
       "      <td>1.090946</td>\n",
       "    </tr>\n",
       "    <tr>\n",
       "      <th>2023-01-02</th>\n",
       "      <td>1.106958</td>\n",
       "      <td>0.024469</td>\n",
       "      <td>1.362755</td>\n",
       "    </tr>\n",
       "    <tr>\n",
       "      <th>2023-01-03</th>\n",
       "      <td>0.176220</td>\n",
       "      <td>-0.321719</td>\n",
       "      <td>-1.137381</td>\n",
       "    </tr>\n",
       "    <tr>\n",
       "      <th>2023-01-04</th>\n",
       "      <td>0.472078</td>\n",
       "      <td>0.909398</td>\n",
       "      <td>0.929063</td>\n",
       "    </tr>\n",
       "    <tr>\n",
       "      <th>2023-01-05</th>\n",
       "      <td>0.934139</td>\n",
       "      <td>1.035919</td>\n",
       "      <td>0.559475</td>\n",
       "    </tr>\n",
       "    <tr>\n",
       "      <th>...</th>\n",
       "      <td>...</td>\n",
       "      <td>...</td>\n",
       "      <td>...</td>\n",
       "    </tr>\n",
       "    <tr>\n",
       "      <th>2024-08-18</th>\n",
       "      <td>-0.838867</td>\n",
       "      <td>-0.376489</td>\n",
       "      <td>0.224255</td>\n",
       "    </tr>\n",
       "    <tr>\n",
       "      <th>2024-08-19</th>\n",
       "      <td>-0.722344</td>\n",
       "      <td>-1.145885</td>\n",
       "      <td>-0.590344</td>\n",
       "    </tr>\n",
       "    <tr>\n",
       "      <th>2024-08-20</th>\n",
       "      <td>0.864899</td>\n",
       "      <td>0.586387</td>\n",
       "      <td>1.518443</td>\n",
       "    </tr>\n",
       "    <tr>\n",
       "      <th>2024-08-21</th>\n",
       "      <td>-0.550040</td>\n",
       "      <td>1.515818</td>\n",
       "      <td>1.057158</td>\n",
       "    </tr>\n",
       "    <tr>\n",
       "      <th>2024-08-22</th>\n",
       "      <td>-0.235367</td>\n",
       "      <td>-1.922112</td>\n",
       "      <td>-0.346406</td>\n",
       "    </tr>\n",
       "  </tbody>\n",
       "</table>\n",
       "<p>600 rows × 3 columns</p>\n",
       "</div>"
      ],
      "text/plain": [
       "                   B         C         D\n",
       "2023-01-01  0.035607 -0.801651  1.090946\n",
       "2023-01-02  1.106958  0.024469  1.362755\n",
       "2023-01-03  0.176220 -0.321719 -1.137381\n",
       "2023-01-04  0.472078  0.909398  0.929063\n",
       "2023-01-05  0.934139  1.035919  0.559475\n",
       "...              ...       ...       ...\n",
       "2024-08-18 -0.838867 -0.376489  0.224255\n",
       "2024-08-19 -0.722344 -1.145885 -0.590344\n",
       "2024-08-20  0.864899  0.586387  1.518443\n",
       "2024-08-21 -0.550040  1.515818  1.057158\n",
       "2024-08-22 -0.235367 -1.922112 -0.346406\n",
       "\n",
       "[600 rows x 3 columns]"
      ]
     },
     "execution_count": 64,
     "metadata": {},
     "output_type": "execute_result"
    }
   ],
   "source": [
    "#Selecionamos todas as linhas das colunas B, C, D\n",
    "\n",
    "df.loc[:,['B', 'C', 'D']]"
   ]
  },
  {
   "cell_type": "code",
   "execution_count": 68,
   "id": "64da1e0c",
   "metadata": {},
   "outputs": [
    {
     "data": {
      "text/plain": [
       "2023-01-01    0.035607\n",
       "2023-01-02    1.106958\n",
       "2023-01-03    0.176220\n",
       "2023-01-04    0.472078\n",
       "Freq: D, Name: B, dtype: float64"
      ]
     },
     "execution_count": 68,
     "metadata": {},
     "output_type": "execute_result"
    }
   ],
   "source": [
    "#Seleciona todas linhas até a linha definida e selecionada somente a coluna B\n",
    "df.loc[: '20230104' , 'B']"
   ]
  },
  {
   "cell_type": "code",
   "execution_count": 69,
   "id": "2177f748",
   "metadata": {},
   "outputs": [
    {
     "data": {
      "text/html": [
       "<div>\n",
       "<style scoped>\n",
       "    .dataframe tbody tr th:only-of-type {\n",
       "        vertical-align: middle;\n",
       "    }\n",
       "\n",
       "    .dataframe tbody tr th {\n",
       "        vertical-align: top;\n",
       "    }\n",
       "\n",
       "    .dataframe thead th {\n",
       "        text-align: right;\n",
       "    }\n",
       "</style>\n",
       "<table border=\"1\" class=\"dataframe\">\n",
       "  <thead>\n",
       "    <tr style=\"text-align: right;\">\n",
       "      <th></th>\n",
       "      <th>A</th>\n",
       "      <th>E</th>\n",
       "    </tr>\n",
       "  </thead>\n",
       "  <tbody>\n",
       "    <tr>\n",
       "      <th>2023-01-02</th>\n",
       "      <td>3.724532</td>\n",
       "      <td>-0.677078</td>\n",
       "    </tr>\n",
       "    <tr>\n",
       "      <th>2023-01-03</th>\n",
       "      <td>-1.197715</td>\n",
       "      <td>-0.659103</td>\n",
       "    </tr>\n",
       "    <tr>\n",
       "      <th>2023-01-04</th>\n",
       "      <td>0.330786</td>\n",
       "      <td>1.713308</td>\n",
       "    </tr>\n",
       "    <tr>\n",
       "      <th>2023-01-05</th>\n",
       "      <td>-0.046027</td>\n",
       "      <td>0.412689</td>\n",
       "    </tr>\n",
       "    <tr>\n",
       "      <th>2023-01-06</th>\n",
       "      <td>-1.192180</td>\n",
       "      <td>0.745653</td>\n",
       "    </tr>\n",
       "  </tbody>\n",
       "</table>\n",
       "</div>"
      ],
      "text/plain": [
       "                   A         E\n",
       "2023-01-02  3.724532 -0.677078\n",
       "2023-01-03 -1.197715 -0.659103\n",
       "2023-01-04  0.330786  1.713308\n",
       "2023-01-05 -0.046027  0.412689\n",
       "2023-01-06 -1.192180  0.745653"
      ]
     },
     "execution_count": 69,
     "metadata": {},
     "output_type": "execute_result"
    }
   ],
   "source": [
    "#Selecionar as linhas e as colunas pelo rotulo\n",
    "\n",
    "df.loc['20230102':'20230820', ['A','E']].head()"
   ]
  },
  {
   "cell_type": "code",
   "execution_count": 70,
   "id": "fe8424c6",
   "metadata": {},
   "outputs": [
    {
     "data": {
      "text/plain": [
       "A    3.724532\n",
       "B    1.106958\n",
       "C    0.024469\n",
       "D    1.362755\n",
       "E   -0.677078\n",
       "Name: 2023-01-02 00:00:00, dtype: float64"
      ]
     },
     "execution_count": 70,
     "metadata": {},
     "output_type": "execute_result"
    }
   ],
   "source": [
    "#Seleciona por linha por index\n",
    "df.iloc[1]"
   ]
  },
  {
   "cell_type": "code",
   "execution_count": 71,
   "id": "167883dc",
   "metadata": {},
   "outputs": [
    {
     "data": {
      "text/html": [
       "<div>\n",
       "<style scoped>\n",
       "    .dataframe tbody tr th:only-of-type {\n",
       "        vertical-align: middle;\n",
       "    }\n",
       "\n",
       "    .dataframe tbody tr th {\n",
       "        vertical-align: top;\n",
       "    }\n",
       "\n",
       "    .dataframe thead th {\n",
       "        text-align: right;\n",
       "    }\n",
       "</style>\n",
       "<table border=\"1\" class=\"dataframe\">\n",
       "  <thead>\n",
       "    <tr style=\"text-align: right;\">\n",
       "      <th></th>\n",
       "      <th>A</th>\n",
       "      <th>B</th>\n",
       "      <th>C</th>\n",
       "      <th>D</th>\n",
       "      <th>E</th>\n",
       "    </tr>\n",
       "  </thead>\n",
       "  <tbody>\n",
       "    <tr>\n",
       "      <th>2023-01-02</th>\n",
       "      <td>3.724532</td>\n",
       "      <td>1.106958</td>\n",
       "      <td>0.024469</td>\n",
       "      <td>1.362755</td>\n",
       "      <td>-0.677078</td>\n",
       "    </tr>\n",
       "    <tr>\n",
       "      <th>2023-01-03</th>\n",
       "      <td>-1.197715</td>\n",
       "      <td>0.176220</td>\n",
       "      <td>-0.321719</td>\n",
       "      <td>-1.137381</td>\n",
       "      <td>-0.659103</td>\n",
       "    </tr>\n",
       "    <tr>\n",
       "      <th>2023-01-04</th>\n",
       "      <td>0.330786</td>\n",
       "      <td>0.472078</td>\n",
       "      <td>0.909398</td>\n",
       "      <td>0.929063</td>\n",
       "      <td>1.713308</td>\n",
       "    </tr>\n",
       "    <tr>\n",
       "      <th>2023-01-05</th>\n",
       "      <td>-0.046027</td>\n",
       "      <td>0.934139</td>\n",
       "      <td>1.035919</td>\n",
       "      <td>0.559475</td>\n",
       "      <td>0.412689</td>\n",
       "    </tr>\n",
       "  </tbody>\n",
       "</table>\n",
       "</div>"
      ],
      "text/plain": [
       "                   A         B         C         D         E\n",
       "2023-01-02  3.724532  1.106958  0.024469  1.362755 -0.677078\n",
       "2023-01-03 -1.197715  0.176220 -0.321719 -1.137381 -0.659103\n",
       "2023-01-04  0.330786  0.472078  0.909398  0.929063  1.713308\n",
       "2023-01-05 -0.046027  0.934139  1.035919  0.559475  0.412689"
      ]
     },
     "execution_count": 71,
     "metadata": {},
     "output_type": "execute_result"
    }
   ],
   "source": [
    "df[1:5]"
   ]
  },
  {
   "cell_type": "code",
   "execution_count": 72,
   "id": "420d6f5d",
   "metadata": {},
   "outputs": [
    {
     "data": {
      "text/html": [
       "<div>\n",
       "<style scoped>\n",
       "    .dataframe tbody tr th:only-of-type {\n",
       "        vertical-align: middle;\n",
       "    }\n",
       "\n",
       "    .dataframe tbody tr th {\n",
       "        vertical-align: top;\n",
       "    }\n",
       "\n",
       "    .dataframe thead th {\n",
       "        text-align: right;\n",
       "    }\n",
       "</style>\n",
       "<table border=\"1\" class=\"dataframe\">\n",
       "  <thead>\n",
       "    <tr style=\"text-align: right;\">\n",
       "      <th></th>\n",
       "      <th>B</th>\n",
       "      <th>C</th>\n",
       "    </tr>\n",
       "  </thead>\n",
       "  <tbody>\n",
       "    <tr>\n",
       "      <th>2023-01-02</th>\n",
       "      <td>1.106958</td>\n",
       "      <td>0.024469</td>\n",
       "    </tr>\n",
       "    <tr>\n",
       "      <th>2023-01-03</th>\n",
       "      <td>0.176220</td>\n",
       "      <td>-0.321719</td>\n",
       "    </tr>\n",
       "    <tr>\n",
       "      <th>2023-01-04</th>\n",
       "      <td>0.472078</td>\n",
       "      <td>0.909398</td>\n",
       "    </tr>\n",
       "    <tr>\n",
       "      <th>2023-01-05</th>\n",
       "      <td>0.934139</td>\n",
       "      <td>1.035919</td>\n",
       "    </tr>\n",
       "  </tbody>\n",
       "</table>\n",
       "</div>"
      ],
      "text/plain": [
       "                   B         C\n",
       "2023-01-02  1.106958  0.024469\n",
       "2023-01-03  0.176220 -0.321719\n",
       "2023-01-04  0.472078  0.909398\n",
       "2023-01-05  0.934139  1.035919"
      ]
     },
     "execution_count": 72,
     "metadata": {},
     "output_type": "execute_result"
    }
   ],
   "source": [
    "#Selecionar linhas e colunas pelos indices\n",
    "\n",
    "df.iloc[1:5, 1:3]"
   ]
  },
  {
   "cell_type": "code",
   "execution_count": 73,
   "id": "13e6087f",
   "metadata": {},
   "outputs": [
    {
     "data": {
      "text/html": [
       "<div>\n",
       "<style scoped>\n",
       "    .dataframe tbody tr th:only-of-type {\n",
       "        vertical-align: middle;\n",
       "    }\n",
       "\n",
       "    .dataframe tbody tr th {\n",
       "        vertical-align: top;\n",
       "    }\n",
       "\n",
       "    .dataframe thead th {\n",
       "        text-align: right;\n",
       "    }\n",
       "</style>\n",
       "<table border=\"1\" class=\"dataframe\">\n",
       "  <thead>\n",
       "    <tr style=\"text-align: right;\">\n",
       "      <th></th>\n",
       "      <th>B</th>\n",
       "      <th>D</th>\n",
       "      <th>E</th>\n",
       "    </tr>\n",
       "  </thead>\n",
       "  <tbody>\n",
       "    <tr>\n",
       "      <th>2023-01-02</th>\n",
       "      <td>1.106958</td>\n",
       "      <td>1.362755</td>\n",
       "      <td>-0.677078</td>\n",
       "    </tr>\n",
       "    <tr>\n",
       "      <th>2023-01-03</th>\n",
       "      <td>0.176220</td>\n",
       "      <td>-1.137381</td>\n",
       "      <td>-0.659103</td>\n",
       "    </tr>\n",
       "    <tr>\n",
       "      <th>2023-01-05</th>\n",
       "      <td>0.934139</td>\n",
       "      <td>0.559475</td>\n",
       "      <td>0.412689</td>\n",
       "    </tr>\n",
       "  </tbody>\n",
       "</table>\n",
       "</div>"
      ],
      "text/plain": [
       "                   B         D         E\n",
       "2023-01-02  1.106958  1.362755 -0.677078\n",
       "2023-01-03  0.176220 -1.137381 -0.659103\n",
       "2023-01-05  0.934139  0.559475  0.412689"
      ]
     },
     "execution_count": 73,
     "metadata": {},
     "output_type": "execute_result"
    }
   ],
   "source": [
    "df.iloc[[1, 2, 4], [1, 3, 4]]"
   ]
  },
  {
   "cell_type": "code",
   "execution_count": 74,
   "id": "b6d55ccb",
   "metadata": {},
   "outputs": [
    {
     "data": {
      "text/html": [
       "<div>\n",
       "<style scoped>\n",
       "    .dataframe tbody tr th:only-of-type {\n",
       "        vertical-align: middle;\n",
       "    }\n",
       "\n",
       "    .dataframe tbody tr th {\n",
       "        vertical-align: top;\n",
       "    }\n",
       "\n",
       "    .dataframe thead th {\n",
       "        text-align: right;\n",
       "    }\n",
       "</style>\n",
       "<table border=\"1\" class=\"dataframe\">\n",
       "  <thead>\n",
       "    <tr style=\"text-align: right;\">\n",
       "      <th></th>\n",
       "      <th>A</th>\n",
       "      <th>B</th>\n",
       "      <th>C</th>\n",
       "      <th>D</th>\n",
       "      <th>E</th>\n",
       "    </tr>\n",
       "  </thead>\n",
       "  <tbody>\n",
       "    <tr>\n",
       "      <th>2023-01-02</th>\n",
       "      <td>3.724532</td>\n",
       "      <td>1.106958</td>\n",
       "      <td>0.024469</td>\n",
       "      <td>1.362755</td>\n",
       "      <td>-0.677078</td>\n",
       "    </tr>\n",
       "    <tr>\n",
       "      <th>2023-01-03</th>\n",
       "      <td>-1.197715</td>\n",
       "      <td>0.176220</td>\n",
       "      <td>-0.321719</td>\n",
       "      <td>-1.137381</td>\n",
       "      <td>-0.659103</td>\n",
       "    </tr>\n",
       "    <tr>\n",
       "      <th>2023-01-04</th>\n",
       "      <td>0.330786</td>\n",
       "      <td>0.472078</td>\n",
       "      <td>0.909398</td>\n",
       "      <td>0.929063</td>\n",
       "      <td>1.713308</td>\n",
       "    </tr>\n",
       "    <tr>\n",
       "      <th>2023-01-05</th>\n",
       "      <td>-0.046027</td>\n",
       "      <td>0.934139</td>\n",
       "      <td>1.035919</td>\n",
       "      <td>0.559475</td>\n",
       "      <td>0.412689</td>\n",
       "    </tr>\n",
       "  </tbody>\n",
       "</table>\n",
       "</div>"
      ],
      "text/plain": [
       "                   A         B         C         D         E\n",
       "2023-01-02  3.724532  1.106958  0.024469  1.362755 -0.677078\n",
       "2023-01-03 -1.197715  0.176220 -0.321719 -1.137381 -0.659103\n",
       "2023-01-04  0.330786  0.472078  0.909398  0.929063  1.713308\n",
       "2023-01-05 -0.046027  0.934139  1.035919  0.559475  0.412689"
      ]
     },
     "execution_count": 74,
     "metadata": {},
     "output_type": "execute_result"
    }
   ],
   "source": [
    "#Tudo que estiver antes da virgula representa as linhas após as colunas\n",
    "\n",
    "df.iloc[1:5, :]"
   ]
  },
  {
   "cell_type": "code",
   "execution_count": 78,
   "id": "7cdb4872",
   "metadata": {},
   "outputs": [],
   "source": [
    "#Importar arquivos externos em EXCEL\n",
    "\n",
    "dados = pd.read_csv('C:/Users/Samsung/Datasets/dados.csv')"
   ]
  },
  {
   "cell_type": "code",
   "execution_count": 79,
   "id": "6ba0ba1d",
   "metadata": {},
   "outputs": [
    {
     "data": {
      "text/html": [
       "<div>\n",
       "<style scoped>\n",
       "    .dataframe tbody tr th:only-of-type {\n",
       "        vertical-align: middle;\n",
       "    }\n",
       "\n",
       "    .dataframe tbody tr th {\n",
       "        vertical-align: top;\n",
       "    }\n",
       "\n",
       "    .dataframe thead th {\n",
       "        text-align: right;\n",
       "    }\n",
       "</style>\n",
       "<table border=\"1\" class=\"dataframe\">\n",
       "  <thead>\n",
       "    <tr style=\"text-align: right;\">\n",
       "      <th></th>\n",
       "      <th>UF</th>\n",
       "      <th>Sexo</th>\n",
       "      <th>Idade</th>\n",
       "      <th>Cor</th>\n",
       "      <th>Anos de Estudo</th>\n",
       "      <th>Renda</th>\n",
       "      <th>Altura</th>\n",
       "    </tr>\n",
       "  </thead>\n",
       "  <tbody>\n",
       "    <tr>\n",
       "      <th>0</th>\n",
       "      <td>11</td>\n",
       "      <td>0</td>\n",
       "      <td>23</td>\n",
       "      <td>8</td>\n",
       "      <td>12</td>\n",
       "      <td>800</td>\n",
       "      <td>1.603808</td>\n",
       "    </tr>\n",
       "    <tr>\n",
       "      <th>1</th>\n",
       "      <td>11</td>\n",
       "      <td>1</td>\n",
       "      <td>23</td>\n",
       "      <td>2</td>\n",
       "      <td>12</td>\n",
       "      <td>1150</td>\n",
       "      <td>1.739790</td>\n",
       "    </tr>\n",
       "    <tr>\n",
       "      <th>2</th>\n",
       "      <td>11</td>\n",
       "      <td>1</td>\n",
       "      <td>35</td>\n",
       "      <td>8</td>\n",
       "      <td>15</td>\n",
       "      <td>880</td>\n",
       "      <td>1.760444</td>\n",
       "    </tr>\n",
       "    <tr>\n",
       "      <th>3</th>\n",
       "      <td>11</td>\n",
       "      <td>0</td>\n",
       "      <td>46</td>\n",
       "      <td>2</td>\n",
       "      <td>6</td>\n",
       "      <td>3500</td>\n",
       "      <td>1.783158</td>\n",
       "    </tr>\n",
       "    <tr>\n",
       "      <th>4</th>\n",
       "      <td>11</td>\n",
       "      <td>1</td>\n",
       "      <td>47</td>\n",
       "      <td>8</td>\n",
       "      <td>9</td>\n",
       "      <td>150</td>\n",
       "      <td>1.690631</td>\n",
       "    </tr>\n",
       "    <tr>\n",
       "      <th>...</th>\n",
       "      <td>...</td>\n",
       "      <td>...</td>\n",
       "      <td>...</td>\n",
       "      <td>...</td>\n",
       "      <td>...</td>\n",
       "      <td>...</td>\n",
       "      <td>...</td>\n",
       "    </tr>\n",
       "    <tr>\n",
       "      <th>76835</th>\n",
       "      <td>53</td>\n",
       "      <td>1</td>\n",
       "      <td>46</td>\n",
       "      <td>2</td>\n",
       "      <td>11</td>\n",
       "      <td>812</td>\n",
       "      <td>1.687030</td>\n",
       "    </tr>\n",
       "    <tr>\n",
       "      <th>76836</th>\n",
       "      <td>53</td>\n",
       "      <td>0</td>\n",
       "      <td>30</td>\n",
       "      <td>4</td>\n",
       "      <td>7</td>\n",
       "      <td>1500</td>\n",
       "      <td>1.792934</td>\n",
       "    </tr>\n",
       "    <tr>\n",
       "      <th>76837</th>\n",
       "      <td>53</td>\n",
       "      <td>0</td>\n",
       "      <td>32</td>\n",
       "      <td>8</td>\n",
       "      <td>12</td>\n",
       "      <td>1300</td>\n",
       "      <td>1.830587</td>\n",
       "    </tr>\n",
       "    <tr>\n",
       "      <th>76838</th>\n",
       "      <td>53</td>\n",
       "      <td>0</td>\n",
       "      <td>57</td>\n",
       "      <td>8</td>\n",
       "      <td>4</td>\n",
       "      <td>1500</td>\n",
       "      <td>1.726344</td>\n",
       "    </tr>\n",
       "    <tr>\n",
       "      <th>76839</th>\n",
       "      <td>53</td>\n",
       "      <td>0</td>\n",
       "      <td>38</td>\n",
       "      <td>8</td>\n",
       "      <td>4</td>\n",
       "      <td>900</td>\n",
       "      <td>1.658305</td>\n",
       "    </tr>\n",
       "  </tbody>\n",
       "</table>\n",
       "<p>76840 rows × 7 columns</p>\n",
       "</div>"
      ],
      "text/plain": [
       "       UF  Sexo  Idade  Cor  Anos de Estudo  Renda    Altura\n",
       "0      11     0     23    8              12    800  1.603808\n",
       "1      11     1     23    2              12   1150  1.739790\n",
       "2      11     1     35    8              15    880  1.760444\n",
       "3      11     0     46    2               6   3500  1.783158\n",
       "4      11     1     47    8               9    150  1.690631\n",
       "...    ..   ...    ...  ...             ...    ...       ...\n",
       "76835  53     1     46    2              11    812  1.687030\n",
       "76836  53     0     30    4               7   1500  1.792934\n",
       "76837  53     0     32    8              12   1300  1.830587\n",
       "76838  53     0     57    8               4   1500  1.726344\n",
       "76839  53     0     38    8               4    900  1.658305\n",
       "\n",
       "[76840 rows x 7 columns]"
      ]
     },
     "execution_count": 79,
     "metadata": {},
     "output_type": "execute_result"
    }
   ],
   "source": [
    "dados"
   ]
  },
  {
   "cell_type": "code",
   "execution_count": 81,
   "id": "aa913c12",
   "metadata": {},
   "outputs": [
    {
     "data": {
      "text/html": [
       "<div>\n",
       "<style scoped>\n",
       "    .dataframe tbody tr th:only-of-type {\n",
       "        vertical-align: middle;\n",
       "    }\n",
       "\n",
       "    .dataframe tbody tr th {\n",
       "        vertical-align: top;\n",
       "    }\n",
       "\n",
       "    .dataframe thead th {\n",
       "        text-align: right;\n",
       "    }\n",
       "</style>\n",
       "<table border=\"1\" class=\"dataframe\">\n",
       "  <thead>\n",
       "    <tr style=\"text-align: right;\">\n",
       "      <th></th>\n",
       "      <th>Sexo</th>\n",
       "      <th>Idade</th>\n",
       "      <th>Anos de Estudo</th>\n",
       "    </tr>\n",
       "  </thead>\n",
       "  <tbody>\n",
       "    <tr>\n",
       "      <th>0</th>\n",
       "      <td>0</td>\n",
       "      <td>23</td>\n",
       "      <td>12</td>\n",
       "    </tr>\n",
       "    <tr>\n",
       "      <th>1</th>\n",
       "      <td>1</td>\n",
       "      <td>23</td>\n",
       "      <td>12</td>\n",
       "    </tr>\n",
       "    <tr>\n",
       "      <th>2</th>\n",
       "      <td>1</td>\n",
       "      <td>35</td>\n",
       "      <td>15</td>\n",
       "    </tr>\n",
       "    <tr>\n",
       "      <th>3</th>\n",
       "      <td>0</td>\n",
       "      <td>46</td>\n",
       "      <td>6</td>\n",
       "    </tr>\n",
       "    <tr>\n",
       "      <th>4</th>\n",
       "      <td>1</td>\n",
       "      <td>47</td>\n",
       "      <td>9</td>\n",
       "    </tr>\n",
       "    <tr>\n",
       "      <th>...</th>\n",
       "      <td>...</td>\n",
       "      <td>...</td>\n",
       "      <td>...</td>\n",
       "    </tr>\n",
       "    <tr>\n",
       "      <th>76835</th>\n",
       "      <td>1</td>\n",
       "      <td>46</td>\n",
       "      <td>11</td>\n",
       "    </tr>\n",
       "    <tr>\n",
       "      <th>76836</th>\n",
       "      <td>0</td>\n",
       "      <td>30</td>\n",
       "      <td>7</td>\n",
       "    </tr>\n",
       "    <tr>\n",
       "      <th>76837</th>\n",
       "      <td>0</td>\n",
       "      <td>32</td>\n",
       "      <td>12</td>\n",
       "    </tr>\n",
       "    <tr>\n",
       "      <th>76838</th>\n",
       "      <td>0</td>\n",
       "      <td>57</td>\n",
       "      <td>4</td>\n",
       "    </tr>\n",
       "    <tr>\n",
       "      <th>76839</th>\n",
       "      <td>0</td>\n",
       "      <td>38</td>\n",
       "      <td>4</td>\n",
       "    </tr>\n",
       "  </tbody>\n",
       "</table>\n",
       "<p>76840 rows × 3 columns</p>\n",
       "</div>"
      ],
      "text/plain": [
       "       Sexo  Idade  Anos de Estudo\n",
       "0         0     23              12\n",
       "1         1     23              12\n",
       "2         1     35              15\n",
       "3         0     46               6\n",
       "4         1     47               9\n",
       "...     ...    ...             ...\n",
       "76835     1     46              11\n",
       "76836     0     30               7\n",
       "76837     0     32              12\n",
       "76838     0     57               4\n",
       "76839     0     38               4\n",
       "\n",
       "[76840 rows x 3 columns]"
      ]
     },
     "execution_count": 81,
     "metadata": {},
     "output_type": "execute_result"
    }
   ],
   "source": [
    "dados.loc[:, ['Sexo', 'Idade', 'Anos de Estudo']]"
   ]
  },
  {
   "cell_type": "code",
   "execution_count": 82,
   "id": "3a38b376",
   "metadata": {},
   "outputs": [
    {
     "data": {
      "text/html": [
       "<div>\n",
       "<style scoped>\n",
       "    .dataframe tbody tr th:only-of-type {\n",
       "        vertical-align: middle;\n",
       "    }\n",
       "\n",
       "    .dataframe tbody tr th {\n",
       "        vertical-align: top;\n",
       "    }\n",
       "\n",
       "    .dataframe thead th {\n",
       "        text-align: right;\n",
       "    }\n",
       "</style>\n",
       "<table border=\"1\" class=\"dataframe\">\n",
       "  <thead>\n",
       "    <tr style=\"text-align: right;\">\n",
       "      <th></th>\n",
       "      <th>Sexo</th>\n",
       "      <th>Idade</th>\n",
       "      <th>Anos de Estudo</th>\n",
       "    </tr>\n",
       "  </thead>\n",
       "  <tbody>\n",
       "    <tr>\n",
       "      <th>0</th>\n",
       "      <td>0</td>\n",
       "      <td>23</td>\n",
       "      <td>12</td>\n",
       "    </tr>\n",
       "    <tr>\n",
       "      <th>1</th>\n",
       "      <td>1</td>\n",
       "      <td>23</td>\n",
       "      <td>12</td>\n",
       "    </tr>\n",
       "    <tr>\n",
       "      <th>2</th>\n",
       "      <td>1</td>\n",
       "      <td>35</td>\n",
       "      <td>15</td>\n",
       "    </tr>\n",
       "    <tr>\n",
       "      <th>3</th>\n",
       "      <td>0</td>\n",
       "      <td>46</td>\n",
       "      <td>6</td>\n",
       "    </tr>\n",
       "    <tr>\n",
       "      <th>4</th>\n",
       "      <td>1</td>\n",
       "      <td>47</td>\n",
       "      <td>9</td>\n",
       "    </tr>\n",
       "    <tr>\n",
       "      <th>...</th>\n",
       "      <td>...</td>\n",
       "      <td>...</td>\n",
       "      <td>...</td>\n",
       "    </tr>\n",
       "    <tr>\n",
       "      <th>76835</th>\n",
       "      <td>1</td>\n",
       "      <td>46</td>\n",
       "      <td>11</td>\n",
       "    </tr>\n",
       "    <tr>\n",
       "      <th>76836</th>\n",
       "      <td>0</td>\n",
       "      <td>30</td>\n",
       "      <td>7</td>\n",
       "    </tr>\n",
       "    <tr>\n",
       "      <th>76837</th>\n",
       "      <td>0</td>\n",
       "      <td>32</td>\n",
       "      <td>12</td>\n",
       "    </tr>\n",
       "    <tr>\n",
       "      <th>76838</th>\n",
       "      <td>0</td>\n",
       "      <td>57</td>\n",
       "      <td>4</td>\n",
       "    </tr>\n",
       "    <tr>\n",
       "      <th>76839</th>\n",
       "      <td>0</td>\n",
       "      <td>38</td>\n",
       "      <td>4</td>\n",
       "    </tr>\n",
       "  </tbody>\n",
       "</table>\n",
       "<p>76840 rows × 3 columns</p>\n",
       "</div>"
      ],
      "text/plain": [
       "       Sexo  Idade  Anos de Estudo\n",
       "0         0     23              12\n",
       "1         1     23              12\n",
       "2         1     35              15\n",
       "3         0     46               6\n",
       "4         1     47               9\n",
       "...     ...    ...             ...\n",
       "76835     1     46              11\n",
       "76836     0     30               7\n",
       "76837     0     32              12\n",
       "76838     0     57               4\n",
       "76839     0     38               4\n",
       "\n",
       "[76840 rows x 3 columns]"
      ]
     },
     "execution_count": 82,
     "metadata": {},
     "output_type": "execute_result"
    }
   ],
   "source": [
    "dados.iloc[:, [1, 2, 4]]"
   ]
  },
  {
   "cell_type": "code",
   "execution_count": null,
   "id": "85f6d0ee",
   "metadata": {},
   "outputs": [],
   "source": []
  },
  {
   "cell_type": "code",
   "execution_count": null,
   "id": "8e318105",
   "metadata": {},
   "outputs": [],
   "source": [
    "#GRÁFICOS\n",
    "import numpy as np\n",
    "import pandas as pd\n",
    "import matplotlib.pyplot as plt"
   ]
  },
  {
   "cell_type": "code",
   "execution_count": null,
   "id": "05fa7924",
   "metadata": {},
   "outputs": [],
   "source": [
    "dados.shape"
   ]
  },
  {
   "cell_type": "code",
   "execution_count": null,
   "id": "88a52277",
   "metadata": {},
   "outputs": [],
   "source": [
    "dados.Idade.plot()\n",
    "plt.show()"
   ]
  },
  {
   "cell_type": "code",
   "execution_count": null,
   "id": "152538e4",
   "metadata": {},
   "outputs": [],
   "source": [
    "dados.Idade.describe()"
   ]
  },
  {
   "cell_type": "code",
   "execution_count": null,
   "id": "a982b5c7",
   "metadata": {},
   "outputs": [],
   "source": [
    "dados.Idade.hist()\n",
    "\n",
    "plt.show()"
   ]
  },
  {
   "cell_type": "code",
   "execution_count": null,
   "id": "95924c3a",
   "metadata": {},
   "outputs": [],
   "source": [
    "#pip install pandas-profiling"
   ]
  },
  {
   "cell_type": "code",
   "execution_count": null,
   "id": "d4aa7795",
   "metadata": {},
   "outputs": [],
   "source": [
    "#import pandas_profiling as pp"
   ]
  },
  {
   "cell_type": "code",
   "execution_count": null,
   "id": "6e64a49c",
   "metadata": {},
   "outputs": [],
   "source": [
    "#report = pp.ProfileReport(dados)\n",
    "#report.to_file('report.html')\n",
    "#report"
   ]
  },
  {
   "cell_type": "code",
   "execution_count": null,
   "id": "a1bd11f5",
   "metadata": {},
   "outputs": [],
   "source": [
    "dados"
   ]
  },
  {
   "cell_type": "code",
   "execution_count": null,
   "id": "67eaa736",
   "metadata": {},
   "outputs": [],
   "source": [
    "dados.head(2)\n"
   ]
  },
  {
   "cell_type": "code",
   "execution_count": null,
   "id": "093a91a0",
   "metadata": {},
   "outputs": [],
   "source": [
    "dados['Sexo'].head(5)"
   ]
  },
  {
   "cell_type": "code",
   "execution_count": null,
   "id": "53422ff7",
   "metadata": {},
   "outputs": [],
   "source": [
    "dados.head(10)"
   ]
  },
  {
   "cell_type": "code",
   "execution_count": null,
   "id": "29fbf73c",
   "metadata": {},
   "outputs": [],
   "source": [
    "# Lê as 10 primeiras linhas do dataframe\n",
    "\n",
    "dados[1:11]"
   ]
  },
  {
   "cell_type": "code",
   "execution_count": null,
   "id": "65f68e19",
   "metadata": {},
   "outputs": [],
   "source": [
    "# Seleciona apenas as colunas idade, sexo e doença existente e lê todas as colunas\n",
    "\n",
    "dados.loc[:, ['Idade', 'Sexo', 'Doença existente']]"
   ]
  },
  {
   "cell_type": "code",
   "execution_count": null,
   "id": "8fbaae94",
   "metadata": {},
   "outputs": [],
   "source": [
    "# Lê a linha 10 do dataframe\n",
    "\n",
    "dados.iloc[10]"
   ]
  },
  {
   "cell_type": "markdown",
   "id": "c427d21c",
   "metadata": {},
   "source": [
    "## Datas"
   ]
  },
  {
   "cell_type": "code",
   "execution_count": 11,
   "id": "68b4da85",
   "metadata": {},
   "outputs": [],
   "source": [
    "#Biblioteca para trabalhar com data\n",
    "import pandas as pd\n",
    "from datetime import datetime, timedelta"
   ]
  },
  {
   "cell_type": "code",
   "execution_count": 3,
   "id": "60cdffbb",
   "metadata": {},
   "outputs": [
    {
     "name": "stdout",
     "output_type": "stream",
     "text": [
      "2024-08-06\n"
     ]
    }
   ],
   "source": [
    "data = datetime.date(2024, 8, 6)\n",
    "print(data)"
   ]
  },
  {
   "cell_type": "code",
   "execution_count": 4,
   "id": "b5704a20",
   "metadata": {},
   "outputs": [],
   "source": [
    "#Separando a data\n",
    "ano = data.year\n",
    "mes = data.month\n",
    "dia = data.day"
   ]
  },
  {
   "cell_type": "code",
   "execution_count": 5,
   "id": "ae3ccbc4",
   "metadata": {},
   "outputs": [
    {
     "name": "stdout",
     "output_type": "stream",
     "text": [
      "2024 8 6\n"
     ]
    }
   ],
   "source": [
    "print(ano, mes, dia)"
   ]
  },
  {
   "cell_type": "code",
   "execution_count": 6,
   "id": "602768db",
   "metadata": {},
   "outputs": [
    {
     "name": "stdout",
     "output_type": "stream",
     "text": [
      "2024-08-10\n"
     ]
    }
   ],
   "source": [
    "nova_data = data.replace(day = 10)\n",
    "print(nova_data)"
   ]
  },
  {
   "cell_type": "code",
   "execution_count": 7,
   "id": "20e8efe7",
   "metadata": {},
   "outputs": [
    {
     "name": "stdout",
     "output_type": "stream",
     "text": [
      "2024-08-07\n"
     ]
    }
   ],
   "source": [
    "#data do dia \n",
    "hoje = datetime.date.today()\n",
    "print(hoje)"
   ]
  },
  {
   "cell_type": "code",
   "execution_count": 8,
   "id": "19a6efce",
   "metadata": {},
   "outputs": [
    {
     "name": "stdout",
     "output_type": "stream",
     "text": [
      "-3 days, 0:00:00\n"
     ]
    }
   ],
   "source": [
    "#Operações com data\n",
    "delta = hoje - nova_data\n",
    "print(delta)"
   ]
  },
  {
   "cell_type": "code",
   "execution_count": 14,
   "id": "b12ae67b",
   "metadata": {},
   "outputs": [
    {
     "name": "stdout",
     "output_type": "stream",
     "text": [
      "2024-08-08\n"
     ]
    }
   ],
   "source": [
    "amanha = hoje + timedelta(days=1)\n",
    "print(amanha)"
   ]
  },
  {
   "cell_type": "code",
   "execution_count": 21,
   "id": "18282c67",
   "metadata": {},
   "outputs": [
    {
     "name": "stdout",
     "output_type": "stream",
     "text": [
      "2024-05-12 00:00:00\n"
     ]
    }
   ],
   "source": [
    "data_contrato = '12/05/2024'\n",
    "data_contrato = datetime.strptime(data_contrato, \"%d/%m/%Y\")\n",
    "print(data_contrato)"
   ]
  },
  {
   "cell_type": "code",
   "execution_count": 24,
   "id": "0e1c25e1",
   "metadata": {},
   "outputs": [
    {
     "data": {
      "text/plain": [
       "Timestamp('2024-05-12 00:00:00')"
      ]
     },
     "execution_count": 24,
     "metadata": {},
     "output_type": "execute_result"
    }
   ],
   "source": [
    "data_prova = '12/05/2024'\n",
    "pd.to_datetime(data_prova, format='%d/%m/%Y')"
   ]
  }
 ],
 "metadata": {
  "kernelspec": {
   "display_name": "Python 3 (ipykernel)",
   "language": "python",
   "name": "python3"
  },
  "language_info": {
   "codemirror_mode": {
    "name": "ipython",
    "version": 3
   },
   "file_extension": ".py",
   "mimetype": "text/x-python",
   "name": "python",
   "nbconvert_exporter": "python",
   "pygments_lexer": "ipython3",
   "version": "3.11.5"
  },
  "toc": {
   "base_numbering": 1,
   "nav_menu": {},
   "number_sections": true,
   "sideBar": true,
   "skip_h1_title": false,
   "title_cell": "Table of Contents",
   "title_sidebar": "Contents",
   "toc_cell": false,
   "toc_position": {
    "height": "calc(100% - 180px)",
    "left": "10px",
    "top": "150px",
    "width": "294.55px"
   },
   "toc_section_display": true,
   "toc_window_display": true
  }
 },
 "nbformat": 4,
 "nbformat_minor": 5
}
